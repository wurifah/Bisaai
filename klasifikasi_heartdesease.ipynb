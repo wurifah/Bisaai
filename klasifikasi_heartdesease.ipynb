{
  "cells": [
    {
      "cell_type": "markdown",
      "metadata": {
        "id": "view-in-github",
        "colab_type": "text"
      },
      "source": [
        "<a href=\"https://colab.research.google.com/github/wurifah/Bisaai/blob/main/klasifikasi_heartdesease.ipynb\" target=\"_parent\"><img src=\"https://colab.research.google.com/assets/colab-badge.svg\" alt=\"Open In Colab\"/></a>"
      ]
    },
    {
      "cell_type": "markdown",
      "source": [
        "# Klasifikasi Penyakit Jantung\n",
        "\n",
        "Di bawah ini adalah proses klasifikasi penyakit jantung dari suatu dataset. Proses klasifikasi dilakukan dengan beberapa model terhadap beberapa variabel seperti usia, jenis kelamin, tipe sakit dada, tekanan darah diastol dan lain-lain. Setelah melakukan klasifikasi terhadap model, maka akan ada proses prediksi dari beberapa parameter atau variabel yang diinput"
      ],
      "metadata": {
        "id": "uzIIoHHg4RGP"
      }
    },
    {
      "cell_type": "markdown",
      "source": [
        "## Load Libraries"
      ],
      "metadata": {
        "id": "a5WLkqv3D_jh"
      }
    },
    {
      "cell_type": "code",
      "execution_count": null,
      "metadata": {
        "id": "AZ9nqH2UsDYT"
      },
      "outputs": [],
      "source": [
        "import pandas as pd\n",
        "import matplotlib.pyplot as plt\n",
        "import seaborn as sns\n",
        "import numpy as np"
      ]
    },
    {
      "cell_type": "markdown",
      "source": [
        "## Load Dataset"
      ],
      "metadata": {
        "id": "WxDJyCV5D4cX"
      }
    },
    {
      "cell_type": "code",
      "execution_count": null,
      "metadata": {
        "colab": {
          "base_uri": "https://localhost:8080/",
          "height": 362
        },
        "id": "HTW0BBUmaIrx",
        "outputId": "eac89e2c-7748-4da6-e875-da0fc79f3aad"
      },
      "outputs": [
        {
          "output_type": "execute_result",
          "data": {
            "text/html": [
              "\n",
              "  <div id=\"df-60c65049-9e3f-4df2-bd48-3b5e76065d04\">\n",
              "    <div class=\"colab-df-container\">\n",
              "      <div>\n",
              "<style scoped>\n",
              "    .dataframe tbody tr th:only-of-type {\n",
              "        vertical-align: middle;\n",
              "    }\n",
              "\n",
              "    .dataframe tbody tr th {\n",
              "        vertical-align: top;\n",
              "    }\n",
              "\n",
              "    .dataframe thead th {\n",
              "        text-align: right;\n",
              "    }\n",
              "</style>\n",
              "<table border=\"1\" class=\"dataframe\">\n",
              "  <thead>\n",
              "    <tr style=\"text-align: right;\">\n",
              "      <th></th>\n",
              "      <th>age</th>\n",
              "      <th>sex</th>\n",
              "      <th>cp</th>\n",
              "      <th>trestbps</th>\n",
              "      <th>chol</th>\n",
              "      <th>fbs</th>\n",
              "      <th>restecg</th>\n",
              "      <th>thalach</th>\n",
              "      <th>exang</th>\n",
              "      <th>oldpeak</th>\n",
              "      <th>slope</th>\n",
              "      <th>ca</th>\n",
              "      <th>thal</th>\n",
              "      <th>target</th>\n",
              "    </tr>\n",
              "  </thead>\n",
              "  <tbody>\n",
              "    <tr>\n",
              "      <th>0</th>\n",
              "      <td>63</td>\n",
              "      <td>1</td>\n",
              "      <td>3</td>\n",
              "      <td>145</td>\n",
              "      <td>233</td>\n",
              "      <td>1</td>\n",
              "      <td>0</td>\n",
              "      <td>150</td>\n",
              "      <td>0</td>\n",
              "      <td>2.3</td>\n",
              "      <td>0</td>\n",
              "      <td>0</td>\n",
              "      <td>1</td>\n",
              "      <td>1</td>\n",
              "    </tr>\n",
              "    <tr>\n",
              "      <th>1</th>\n",
              "      <td>37</td>\n",
              "      <td>1</td>\n",
              "      <td>2</td>\n",
              "      <td>130</td>\n",
              "      <td>250</td>\n",
              "      <td>0</td>\n",
              "      <td>1</td>\n",
              "      <td>187</td>\n",
              "      <td>0</td>\n",
              "      <td>3.5</td>\n",
              "      <td>0</td>\n",
              "      <td>0</td>\n",
              "      <td>2</td>\n",
              "      <td>1</td>\n",
              "    </tr>\n",
              "    <tr>\n",
              "      <th>2</th>\n",
              "      <td>41</td>\n",
              "      <td>0</td>\n",
              "      <td>1</td>\n",
              "      <td>130</td>\n",
              "      <td>204</td>\n",
              "      <td>0</td>\n",
              "      <td>0</td>\n",
              "      <td>172</td>\n",
              "      <td>0</td>\n",
              "      <td>1.4</td>\n",
              "      <td>2</td>\n",
              "      <td>0</td>\n",
              "      <td>2</td>\n",
              "      <td>1</td>\n",
              "    </tr>\n",
              "    <tr>\n",
              "      <th>3</th>\n",
              "      <td>56</td>\n",
              "      <td>1</td>\n",
              "      <td>1</td>\n",
              "      <td>120</td>\n",
              "      <td>236</td>\n",
              "      <td>0</td>\n",
              "      <td>1</td>\n",
              "      <td>178</td>\n",
              "      <td>0</td>\n",
              "      <td>0.8</td>\n",
              "      <td>2</td>\n",
              "      <td>0</td>\n",
              "      <td>2</td>\n",
              "      <td>1</td>\n",
              "    </tr>\n",
              "    <tr>\n",
              "      <th>4</th>\n",
              "      <td>57</td>\n",
              "      <td>0</td>\n",
              "      <td>0</td>\n",
              "      <td>120</td>\n",
              "      <td>354</td>\n",
              "      <td>0</td>\n",
              "      <td>1</td>\n",
              "      <td>163</td>\n",
              "      <td>1</td>\n",
              "      <td>0.6</td>\n",
              "      <td>2</td>\n",
              "      <td>0</td>\n",
              "      <td>2</td>\n",
              "      <td>1</td>\n",
              "    </tr>\n",
              "    <tr>\n",
              "      <th>5</th>\n",
              "      <td>57</td>\n",
              "      <td>1</td>\n",
              "      <td>0</td>\n",
              "      <td>140</td>\n",
              "      <td>192</td>\n",
              "      <td>0</td>\n",
              "      <td>1</td>\n",
              "      <td>148</td>\n",
              "      <td>0</td>\n",
              "      <td>0.4</td>\n",
              "      <td>1</td>\n",
              "      <td>0</td>\n",
              "      <td>1</td>\n",
              "      <td>1</td>\n",
              "    </tr>\n",
              "    <tr>\n",
              "      <th>6</th>\n",
              "      <td>56</td>\n",
              "      <td>0</td>\n",
              "      <td>1</td>\n",
              "      <td>140</td>\n",
              "      <td>294</td>\n",
              "      <td>0</td>\n",
              "      <td>0</td>\n",
              "      <td>153</td>\n",
              "      <td>0</td>\n",
              "      <td>1.3</td>\n",
              "      <td>1</td>\n",
              "      <td>0</td>\n",
              "      <td>2</td>\n",
              "      <td>1</td>\n",
              "    </tr>\n",
              "    <tr>\n",
              "      <th>7</th>\n",
              "      <td>44</td>\n",
              "      <td>1</td>\n",
              "      <td>1</td>\n",
              "      <td>120</td>\n",
              "      <td>263</td>\n",
              "      <td>0</td>\n",
              "      <td>1</td>\n",
              "      <td>173</td>\n",
              "      <td>0</td>\n",
              "      <td>0.0</td>\n",
              "      <td>2</td>\n",
              "      <td>0</td>\n",
              "      <td>3</td>\n",
              "      <td>1</td>\n",
              "    </tr>\n",
              "    <tr>\n",
              "      <th>8</th>\n",
              "      <td>52</td>\n",
              "      <td>1</td>\n",
              "      <td>2</td>\n",
              "      <td>172</td>\n",
              "      <td>199</td>\n",
              "      <td>1</td>\n",
              "      <td>1</td>\n",
              "      <td>162</td>\n",
              "      <td>0</td>\n",
              "      <td>0.5</td>\n",
              "      <td>2</td>\n",
              "      <td>0</td>\n",
              "      <td>3</td>\n",
              "      <td>1</td>\n",
              "    </tr>\n",
              "    <tr>\n",
              "      <th>9</th>\n",
              "      <td>57</td>\n",
              "      <td>1</td>\n",
              "      <td>2</td>\n",
              "      <td>150</td>\n",
              "      <td>168</td>\n",
              "      <td>0</td>\n",
              "      <td>1</td>\n",
              "      <td>174</td>\n",
              "      <td>0</td>\n",
              "      <td>1.6</td>\n",
              "      <td>2</td>\n",
              "      <td>0</td>\n",
              "      <td>2</td>\n",
              "      <td>1</td>\n",
              "    </tr>\n",
              "  </tbody>\n",
              "</table>\n",
              "</div>\n",
              "      <button class=\"colab-df-convert\" onclick=\"convertToInteractive('df-60c65049-9e3f-4df2-bd48-3b5e76065d04')\"\n",
              "              title=\"Convert this dataframe to an interactive table.\"\n",
              "              style=\"display:none;\">\n",
              "        \n",
              "  <svg xmlns=\"http://www.w3.org/2000/svg\" height=\"24px\"viewBox=\"0 0 24 24\"\n",
              "       width=\"24px\">\n",
              "    <path d=\"M0 0h24v24H0V0z\" fill=\"none\"/>\n",
              "    <path d=\"M18.56 5.44l.94 2.06.94-2.06 2.06-.94-2.06-.94-.94-2.06-.94 2.06-2.06.94zm-11 1L8.5 8.5l.94-2.06 2.06-.94-2.06-.94L8.5 2.5l-.94 2.06-2.06.94zm10 10l.94 2.06.94-2.06 2.06-.94-2.06-.94-.94-2.06-.94 2.06-2.06.94z\"/><path d=\"M17.41 7.96l-1.37-1.37c-.4-.4-.92-.59-1.43-.59-.52 0-1.04.2-1.43.59L10.3 9.45l-7.72 7.72c-.78.78-.78 2.05 0 2.83L4 21.41c.39.39.9.59 1.41.59.51 0 1.02-.2 1.41-.59l7.78-7.78 2.81-2.81c.8-.78.8-2.07 0-2.86zM5.41 20L4 18.59l7.72-7.72 1.47 1.35L5.41 20z\"/>\n",
              "  </svg>\n",
              "      </button>\n",
              "      \n",
              "  <style>\n",
              "    .colab-df-container {\n",
              "      display:flex;\n",
              "      flex-wrap:wrap;\n",
              "      gap: 12px;\n",
              "    }\n",
              "\n",
              "    .colab-df-convert {\n",
              "      background-color: #E8F0FE;\n",
              "      border: none;\n",
              "      border-radius: 50%;\n",
              "      cursor: pointer;\n",
              "      display: none;\n",
              "      fill: #1967D2;\n",
              "      height: 32px;\n",
              "      padding: 0 0 0 0;\n",
              "      width: 32px;\n",
              "    }\n",
              "\n",
              "    .colab-df-convert:hover {\n",
              "      background-color: #E2EBFA;\n",
              "      box-shadow: 0px 1px 2px rgba(60, 64, 67, 0.3), 0px 1px 3px 1px rgba(60, 64, 67, 0.15);\n",
              "      fill: #174EA6;\n",
              "    }\n",
              "\n",
              "    [theme=dark] .colab-df-convert {\n",
              "      background-color: #3B4455;\n",
              "      fill: #D2E3FC;\n",
              "    }\n",
              "\n",
              "    [theme=dark] .colab-df-convert:hover {\n",
              "      background-color: #434B5C;\n",
              "      box-shadow: 0px 1px 3px 1px rgba(0, 0, 0, 0.15);\n",
              "      filter: drop-shadow(0px 1px 2px rgba(0, 0, 0, 0.3));\n",
              "      fill: #FFFFFF;\n",
              "    }\n",
              "  </style>\n",
              "\n",
              "      <script>\n",
              "        const buttonEl =\n",
              "          document.querySelector('#df-60c65049-9e3f-4df2-bd48-3b5e76065d04 button.colab-df-convert');\n",
              "        buttonEl.style.display =\n",
              "          google.colab.kernel.accessAllowed ? 'block' : 'none';\n",
              "\n",
              "        async function convertToInteractive(key) {\n",
              "          const element = document.querySelector('#df-60c65049-9e3f-4df2-bd48-3b5e76065d04');\n",
              "          const dataTable =\n",
              "            await google.colab.kernel.invokeFunction('convertToInteractive',\n",
              "                                                     [key], {});\n",
              "          if (!dataTable) return;\n",
              "\n",
              "          const docLinkHtml = 'Like what you see? Visit the ' +\n",
              "            '<a target=\"_blank\" href=https://colab.research.google.com/notebooks/data_table.ipynb>data table notebook</a>'\n",
              "            + ' to learn more about interactive tables.';\n",
              "          element.innerHTML = '';\n",
              "          dataTable['output_type'] = 'display_data';\n",
              "          await google.colab.output.renderOutput(dataTable, element);\n",
              "          const docLink = document.createElement('div');\n",
              "          docLink.innerHTML = docLinkHtml;\n",
              "          element.appendChild(docLink);\n",
              "        }\n",
              "      </script>\n",
              "    </div>\n",
              "  </div>\n",
              "  "
            ],
            "text/plain": [
              "   age  sex  cp  trestbps  chol  fbs  ...  exang  oldpeak  slope  ca  thal  target\n",
              "0   63    1   3       145   233    1  ...      0      2.3      0   0     1       1\n",
              "1   37    1   2       130   250    0  ...      0      3.5      0   0     2       1\n",
              "2   41    0   1       130   204    0  ...      0      1.4      2   0     2       1\n",
              "3   56    1   1       120   236    0  ...      0      0.8      2   0     2       1\n",
              "4   57    0   0       120   354    0  ...      1      0.6      2   0     2       1\n",
              "5   57    1   0       140   192    0  ...      0      0.4      1   0     1       1\n",
              "6   56    0   1       140   294    0  ...      0      1.3      1   0     2       1\n",
              "7   44    1   1       120   263    0  ...      0      0.0      2   0     3       1\n",
              "8   52    1   2       172   199    1  ...      0      0.5      2   0     3       1\n",
              "9   57    1   2       150   168    0  ...      0      1.6      2   0     2       1\n",
              "\n",
              "[10 rows x 14 columns]"
            ]
          },
          "metadata": {},
          "execution_count": 6
        }
      ],
      "source": [
        "df = pd.read_csv('heart.csv')\n",
        "df.head(10)"
      ]
    },
    {
      "cell_type": "code",
      "execution_count": null,
      "metadata": {
        "colab": {
          "base_uri": "https://localhost:8080/"
        },
        "id": "C-GTjumRa7pO",
        "outputId": "34aac0c1-3388-4267-a558-1ed1780f2c7b"
      },
      "outputs": [
        {
          "output_type": "execute_result",
          "data": {
            "text/plain": [
              "(303, 14)"
            ]
          },
          "metadata": {},
          "execution_count": 7
        }
      ],
      "source": [
        "df.shape"
      ]
    },
    {
      "cell_type": "markdown",
      "source": [
        "# Informasi data\n",
        "Terdapat 303 observasi dan 14 kolom pada dataset\n",
        "\n",
        "> Data pasien\n",
        "\n",
        "age = umur pasien\n",
        "\n",
        "sex = jenis kelamin (1 = male, 0 = female)\n",
        "\n",
        "cp = chest pain type (jenis sakit dada)\n",
        "\n",
        "\n",
        "0.   Asymptomatic (tanpa gejala)\n",
        "1.   Atypical angina\n",
        "2. Non-anginal pain\n",
        "3. Typical angina\n",
        "\n",
        "trestbps = resting blood pressure (tekanan darah diastol)\n",
        "\n",
        "chol     = serum cholestoral in mg/dl (kolesterol serum dalam mg/dl)\n",
        "\n",
        "fbs     = fasting blood sugar > 120 mg/dl (nilai gula darah saat puasa)\n",
        "\n",
        "restecg = resting electrocardiographic results (values 0,1,2) (hasil elektrokardiografi saat istirahat)\n",
        "\n",
        "thalach = maximum heart rate achieved (detak jantung maksimum permenit)\n",
        "\n",
        "exang   = exercise induced angina (angina terinduksi saat olahraga)\n",
        "\n",
        "oldpeak = ST depression induced by exercise relative to rest (tingkat depresi yang disebabkan oleh olahraga relatif terhadap istirahat)\n",
        "\n",
        "slope   = the slope of the peak exercise ST segment (kemiringan segmen ST saat olahraga)\n",
        "\n",
        "ca      = number of major vessels (0-3) colored by flourosopy (jumlah vessel)\n",
        "\n",
        "thal    = thal; 3 = normal; 6 = fixed defect; 7 = reversable defect\n",
        "\n",
        "\n",
        "> Deteksi\n",
        "\n",
        "target = 1 positif , 0 negatif\n"
      ],
      "metadata": {
        "id": "j4MBaVmUExyf"
      }
    },
    {
      "cell_type": "code",
      "source": [
        "df.info()"
      ],
      "metadata": {
        "colab": {
          "base_uri": "https://localhost:8080/"
        },
        "id": "kCyqtM79ENGy",
        "outputId": "101497b0-67da-4c04-eb18-0218b9946931"
      },
      "execution_count": null,
      "outputs": [
        {
          "output_type": "stream",
          "name": "stdout",
          "text": [
            "<class 'pandas.core.frame.DataFrame'>\n",
            "RangeIndex: 303 entries, 0 to 302\n",
            "Data columns (total 14 columns):\n",
            " #   Column    Non-Null Count  Dtype  \n",
            "---  ------    --------------  -----  \n",
            " 0   age       303 non-null    int64  \n",
            " 1   sex       303 non-null    int64  \n",
            " 2   cp        303 non-null    int64  \n",
            " 3   trestbps  303 non-null    int64  \n",
            " 4   chol      303 non-null    int64  \n",
            " 5   fbs       303 non-null    int64  \n",
            " 6   restecg   303 non-null    int64  \n",
            " 7   thalach   303 non-null    int64  \n",
            " 8   exang     303 non-null    int64  \n",
            " 9   oldpeak   303 non-null    float64\n",
            " 10  slope     303 non-null    int64  \n",
            " 11  ca        303 non-null    int64  \n",
            " 12  thal      303 non-null    int64  \n",
            " 13  target    303 non-null    int64  \n",
            "dtypes: float64(1), int64(13)\n",
            "memory usage: 33.3 KB\n"
          ]
        }
      ]
    },
    {
      "cell_type": "code",
      "execution_count": null,
      "metadata": {
        "colab": {
          "base_uri": "https://localhost:8080/",
          "height": 343
        },
        "id": "MlpEKoGeavFr",
        "outputId": "b4022c52-9778-4192-f8cc-afdad2fab16f"
      },
      "outputs": [
        {
          "output_type": "execute_result",
          "data": {
            "text/html": [
              "\n",
              "  <div id=\"df-9ad30b9a-80ff-4aea-8e65-873b34cbf6df\">\n",
              "    <div class=\"colab-df-container\">\n",
              "      <div>\n",
              "<style scoped>\n",
              "    .dataframe tbody tr th:only-of-type {\n",
              "        vertical-align: middle;\n",
              "    }\n",
              "\n",
              "    .dataframe tbody tr th {\n",
              "        vertical-align: top;\n",
              "    }\n",
              "\n",
              "    .dataframe thead th {\n",
              "        text-align: right;\n",
              "    }\n",
              "</style>\n",
              "<table border=\"1\" class=\"dataframe\">\n",
              "  <thead>\n",
              "    <tr style=\"text-align: right;\">\n",
              "      <th></th>\n",
              "      <th>age</th>\n",
              "      <th>sex</th>\n",
              "      <th>cp</th>\n",
              "      <th>trestbps</th>\n",
              "      <th>chol</th>\n",
              "      <th>fbs</th>\n",
              "      <th>restecg</th>\n",
              "      <th>thalach</th>\n",
              "      <th>exang</th>\n",
              "      <th>oldpeak</th>\n",
              "      <th>slope</th>\n",
              "      <th>ca</th>\n",
              "      <th>thal</th>\n",
              "      <th>target</th>\n",
              "    </tr>\n",
              "  </thead>\n",
              "  <tbody>\n",
              "    <tr>\n",
              "      <th>count</th>\n",
              "      <td>303.000000</td>\n",
              "      <td>303.000000</td>\n",
              "      <td>303.000000</td>\n",
              "      <td>303.000000</td>\n",
              "      <td>303.000000</td>\n",
              "      <td>303.000000</td>\n",
              "      <td>303.000000</td>\n",
              "      <td>303.000000</td>\n",
              "      <td>303.000000</td>\n",
              "      <td>303.000000</td>\n",
              "      <td>303.000000</td>\n",
              "      <td>303.000000</td>\n",
              "      <td>303.000000</td>\n",
              "      <td>303.000000</td>\n",
              "    </tr>\n",
              "    <tr>\n",
              "      <th>mean</th>\n",
              "      <td>54.366337</td>\n",
              "      <td>0.683168</td>\n",
              "      <td>0.966997</td>\n",
              "      <td>131.623762</td>\n",
              "      <td>246.264026</td>\n",
              "      <td>0.148515</td>\n",
              "      <td>0.528053</td>\n",
              "      <td>149.646865</td>\n",
              "      <td>0.326733</td>\n",
              "      <td>1.039604</td>\n",
              "      <td>1.399340</td>\n",
              "      <td>0.729373</td>\n",
              "      <td>2.313531</td>\n",
              "      <td>0.544554</td>\n",
              "    </tr>\n",
              "    <tr>\n",
              "      <th>std</th>\n",
              "      <td>9.082101</td>\n",
              "      <td>0.466011</td>\n",
              "      <td>1.032052</td>\n",
              "      <td>17.538143</td>\n",
              "      <td>51.830751</td>\n",
              "      <td>0.356198</td>\n",
              "      <td>0.525860</td>\n",
              "      <td>22.905161</td>\n",
              "      <td>0.469794</td>\n",
              "      <td>1.161075</td>\n",
              "      <td>0.616226</td>\n",
              "      <td>1.022606</td>\n",
              "      <td>0.612277</td>\n",
              "      <td>0.498835</td>\n",
              "    </tr>\n",
              "    <tr>\n",
              "      <th>min</th>\n",
              "      <td>29.000000</td>\n",
              "      <td>0.000000</td>\n",
              "      <td>0.000000</td>\n",
              "      <td>94.000000</td>\n",
              "      <td>126.000000</td>\n",
              "      <td>0.000000</td>\n",
              "      <td>0.000000</td>\n",
              "      <td>71.000000</td>\n",
              "      <td>0.000000</td>\n",
              "      <td>0.000000</td>\n",
              "      <td>0.000000</td>\n",
              "      <td>0.000000</td>\n",
              "      <td>0.000000</td>\n",
              "      <td>0.000000</td>\n",
              "    </tr>\n",
              "    <tr>\n",
              "      <th>25%</th>\n",
              "      <td>47.500000</td>\n",
              "      <td>0.000000</td>\n",
              "      <td>0.000000</td>\n",
              "      <td>120.000000</td>\n",
              "      <td>211.000000</td>\n",
              "      <td>0.000000</td>\n",
              "      <td>0.000000</td>\n",
              "      <td>133.500000</td>\n",
              "      <td>0.000000</td>\n",
              "      <td>0.000000</td>\n",
              "      <td>1.000000</td>\n",
              "      <td>0.000000</td>\n",
              "      <td>2.000000</td>\n",
              "      <td>0.000000</td>\n",
              "    </tr>\n",
              "    <tr>\n",
              "      <th>50%</th>\n",
              "      <td>55.000000</td>\n",
              "      <td>1.000000</td>\n",
              "      <td>1.000000</td>\n",
              "      <td>130.000000</td>\n",
              "      <td>240.000000</td>\n",
              "      <td>0.000000</td>\n",
              "      <td>1.000000</td>\n",
              "      <td>153.000000</td>\n",
              "      <td>0.000000</td>\n",
              "      <td>0.800000</td>\n",
              "      <td>1.000000</td>\n",
              "      <td>0.000000</td>\n",
              "      <td>2.000000</td>\n",
              "      <td>1.000000</td>\n",
              "    </tr>\n",
              "    <tr>\n",
              "      <th>75%</th>\n",
              "      <td>61.000000</td>\n",
              "      <td>1.000000</td>\n",
              "      <td>2.000000</td>\n",
              "      <td>140.000000</td>\n",
              "      <td>274.500000</td>\n",
              "      <td>0.000000</td>\n",
              "      <td>1.000000</td>\n",
              "      <td>166.000000</td>\n",
              "      <td>1.000000</td>\n",
              "      <td>1.600000</td>\n",
              "      <td>2.000000</td>\n",
              "      <td>1.000000</td>\n",
              "      <td>3.000000</td>\n",
              "      <td>1.000000</td>\n",
              "    </tr>\n",
              "    <tr>\n",
              "      <th>max</th>\n",
              "      <td>77.000000</td>\n",
              "      <td>1.000000</td>\n",
              "      <td>3.000000</td>\n",
              "      <td>200.000000</td>\n",
              "      <td>564.000000</td>\n",
              "      <td>1.000000</td>\n",
              "      <td>2.000000</td>\n",
              "      <td>202.000000</td>\n",
              "      <td>1.000000</td>\n",
              "      <td>6.200000</td>\n",
              "      <td>2.000000</td>\n",
              "      <td>4.000000</td>\n",
              "      <td>3.000000</td>\n",
              "      <td>1.000000</td>\n",
              "    </tr>\n",
              "  </tbody>\n",
              "</table>\n",
              "</div>\n",
              "      <button class=\"colab-df-convert\" onclick=\"convertToInteractive('df-9ad30b9a-80ff-4aea-8e65-873b34cbf6df')\"\n",
              "              title=\"Convert this dataframe to an interactive table.\"\n",
              "              style=\"display:none;\">\n",
              "        \n",
              "  <svg xmlns=\"http://www.w3.org/2000/svg\" height=\"24px\"viewBox=\"0 0 24 24\"\n",
              "       width=\"24px\">\n",
              "    <path d=\"M0 0h24v24H0V0z\" fill=\"none\"/>\n",
              "    <path d=\"M18.56 5.44l.94 2.06.94-2.06 2.06-.94-2.06-.94-.94-2.06-.94 2.06-2.06.94zm-11 1L8.5 8.5l.94-2.06 2.06-.94-2.06-.94L8.5 2.5l-.94 2.06-2.06.94zm10 10l.94 2.06.94-2.06 2.06-.94-2.06-.94-.94-2.06-.94 2.06-2.06.94z\"/><path d=\"M17.41 7.96l-1.37-1.37c-.4-.4-.92-.59-1.43-.59-.52 0-1.04.2-1.43.59L10.3 9.45l-7.72 7.72c-.78.78-.78 2.05 0 2.83L4 21.41c.39.39.9.59 1.41.59.51 0 1.02-.2 1.41-.59l7.78-7.78 2.81-2.81c.8-.78.8-2.07 0-2.86zM5.41 20L4 18.59l7.72-7.72 1.47 1.35L5.41 20z\"/>\n",
              "  </svg>\n",
              "      </button>\n",
              "      \n",
              "  <style>\n",
              "    .colab-df-container {\n",
              "      display:flex;\n",
              "      flex-wrap:wrap;\n",
              "      gap: 12px;\n",
              "    }\n",
              "\n",
              "    .colab-df-convert {\n",
              "      background-color: #E8F0FE;\n",
              "      border: none;\n",
              "      border-radius: 50%;\n",
              "      cursor: pointer;\n",
              "      display: none;\n",
              "      fill: #1967D2;\n",
              "      height: 32px;\n",
              "      padding: 0 0 0 0;\n",
              "      width: 32px;\n",
              "    }\n",
              "\n",
              "    .colab-df-convert:hover {\n",
              "      background-color: #E2EBFA;\n",
              "      box-shadow: 0px 1px 2px rgba(60, 64, 67, 0.3), 0px 1px 3px 1px rgba(60, 64, 67, 0.15);\n",
              "      fill: #174EA6;\n",
              "    }\n",
              "\n",
              "    [theme=dark] .colab-df-convert {\n",
              "      background-color: #3B4455;\n",
              "      fill: #D2E3FC;\n",
              "    }\n",
              "\n",
              "    [theme=dark] .colab-df-convert:hover {\n",
              "      background-color: #434B5C;\n",
              "      box-shadow: 0px 1px 3px 1px rgba(0, 0, 0, 0.15);\n",
              "      filter: drop-shadow(0px 1px 2px rgba(0, 0, 0, 0.3));\n",
              "      fill: #FFFFFF;\n",
              "    }\n",
              "  </style>\n",
              "\n",
              "      <script>\n",
              "        const buttonEl =\n",
              "          document.querySelector('#df-9ad30b9a-80ff-4aea-8e65-873b34cbf6df button.colab-df-convert');\n",
              "        buttonEl.style.display =\n",
              "          google.colab.kernel.accessAllowed ? 'block' : 'none';\n",
              "\n",
              "        async function convertToInteractive(key) {\n",
              "          const element = document.querySelector('#df-9ad30b9a-80ff-4aea-8e65-873b34cbf6df');\n",
              "          const dataTable =\n",
              "            await google.colab.kernel.invokeFunction('convertToInteractive',\n",
              "                                                     [key], {});\n",
              "          if (!dataTable) return;\n",
              "\n",
              "          const docLinkHtml = 'Like what you see? Visit the ' +\n",
              "            '<a target=\"_blank\" href=https://colab.research.google.com/notebooks/data_table.ipynb>data table notebook</a>'\n",
              "            + ' to learn more about interactive tables.';\n",
              "          element.innerHTML = '';\n",
              "          dataTable['output_type'] = 'display_data';\n",
              "          await google.colab.output.renderOutput(dataTable, element);\n",
              "          const docLink = document.createElement('div');\n",
              "          docLink.innerHTML = docLinkHtml;\n",
              "          element.appendChild(docLink);\n",
              "        }\n",
              "      </script>\n",
              "    </div>\n",
              "  </div>\n",
              "  "
            ],
            "text/plain": [
              "              age         sex          cp  ...          ca        thal      target\n",
              "count  303.000000  303.000000  303.000000  ...  303.000000  303.000000  303.000000\n",
              "mean    54.366337    0.683168    0.966997  ...    0.729373    2.313531    0.544554\n",
              "std      9.082101    0.466011    1.032052  ...    1.022606    0.612277    0.498835\n",
              "min     29.000000    0.000000    0.000000  ...    0.000000    0.000000    0.000000\n",
              "25%     47.500000    0.000000    0.000000  ...    0.000000    2.000000    0.000000\n",
              "50%     55.000000    1.000000    1.000000  ...    0.000000    2.000000    1.000000\n",
              "75%     61.000000    1.000000    2.000000  ...    1.000000    3.000000    1.000000\n",
              "max     77.000000    1.000000    3.000000  ...    4.000000    3.000000    1.000000\n",
              "\n",
              "[8 rows x 14 columns]"
            ]
          },
          "metadata": {},
          "execution_count": 9
        }
      ],
      "source": [
        "df.describe()"
      ]
    },
    {
      "cell_type": "markdown",
      "source": [
        "# Visualisasi data"
      ],
      "metadata": {
        "id": "AlsJ0j-EKGHY"
      }
    },
    {
      "cell_type": "code",
      "source": [
        "sns.set()\n",
        "f = plt.figure()\n",
        "sns.countplot(df['target'])\n",
        "plt.title('Grafik Perbandingan Pasien Penyakit Jantung dan Tidak Berpenyakit Jantung')\n",
        "plt.show()\n",
        "countNoDisease = len(df[df.target ==0])\n",
        "countHaveDisease = len(df[df.target ==1])\n",
        "print('Presentase pasien tidak memiliki penyakit jantung : {:.2f}%'.format((countNoDisease / (len(df.target))*100)))\n",
        "print('Presentase pasien memiliki penyakit jantung : {:.2f}%'.format((countHaveDisease / (len(df.target))*100)))"
      ],
      "metadata": {
        "colab": {
          "base_uri": "https://localhost:8080/",
          "height": 390
        },
        "id": "MyzZSFMlKS-9",
        "outputId": "f42ec2a0-257a-4424-e35a-6c1f2f343adb"
      },
      "execution_count": null,
      "outputs": [
        {
          "output_type": "stream",
          "name": "stderr",
          "text": [
            "/usr/local/lib/python3.7/dist-packages/seaborn/_decorators.py:43: FutureWarning: Pass the following variable as a keyword arg: x. From version 0.12, the only valid positional argument will be `data`, and passing other arguments without an explicit keyword will result in an error or misinterpretation.\n",
            "  FutureWarning\n"
          ]
        },
        {
          "output_type": "display_data",
          "data": {
            "image/png": "[encoded data removed]",
            "text/plain": [
              "<Figure size 432x288 with 1 Axes>"
            ]
          },
          "metadata": {}
        },
        {
          "output_type": "stream",
          "name": "stdout",
          "text": [
            "Presentase pasien tidak memiliki penyakit jantung : 45.54%\n",
            "Presentase pasien memiliki penyakit jantung : 54.46%\n"
          ]
        }
      ]
    },
    {
      "cell_type": "code",
      "source": [
        "sns.set()\n",
        "pd.crosstab(df.age , df.target).plot(kind = 'bar', figsize = (20,10))\n",
        "plt.title('Frekuensi berdasarkan umur')\n",
        "plt.xlabel('Age')\n",
        "plt.ylabel('Frequency')\n",
        "plt.show()"
      ],
      "metadata": {
        "colab": {
          "base_uri": "https://localhost:8080/",
          "height": 631
        },
        "id": "jSLWkqzWLU5k",
        "outputId": "b656636f-27ab-4193-c2bf-f8c197b53b44"
      },
      "execution_count": null,
      "outputs": [
        {
          "output_type": "display_data",
          "data": {
            "image/png": "[encoded data removed]",
            "text/plain": [
              "<Figure size 1440x720 with 1 Axes>"
            ]
          },
          "metadata": {}
        }
      ]
    },
    {
      "cell_type": "code",
      "source": [
        "sns.countplot(data=df, x='sex', hue='target')\n",
        "plt.title('Frekuensi berdasarkan umur')\n",
        "plt.xlabel('Sex , 0 = female , 1 = male')\n",
        "plt.ylabel('Frequency')\n",
        "plt.show()"
      ],
      "metadata": {
        "colab": {
          "base_uri": "https://localhost:8080/",
          "height": 301
        },
        "id": "S5uxEG82NGVb",
        "outputId": "fc3d2bfd-9324-40c2-9f1c-cecafa1a7b70"
      },
      "execution_count": null,
      "outputs": [
        {
          "output_type": "display_data",
          "data": {
            "image/png": "[encoded data removed]",
            "text/plain": [
              "<Figure size 432x288 with 1 Axes>"
            ]
          },
          "metadata": {}
        }
      ]
    },
    {
      "cell_type": "code",
      "source": [
        "corr = df.corr() # .corr is used to find corelation\n",
        "f,ax = plt.subplots(figsize=(20, 20))\n",
        "sns.heatmap(corr, cbar = True,  square = True, annot = True, fmt= '.1f', \n",
        "            xticklabels= True, yticklabels= True\n",
        "            ,cmap=\"coolwarm\", linewidths=.5, ax=ax);"
      ],
      "metadata": {
        "colab": {
          "base_uri": "https://localhost:8080/",
          "height": 1000
        },
        "id": "aUVJbURkOl6G",
        "outputId": "256d072b-d5c4-460b-9ed1-2f9ed2805a8c"
      },
      "execution_count": null,
      "outputs": [
        {
          "output_type": "display_data",
          "data": {
            "image/png": "[encoded data removed]",
            "text/plain": [
              "<Figure size 1440x1440 with 2 Axes>"
            ]
          },
          "metadata": {}
        }
      ]
    },
    {
      "cell_type": "markdown",
      "source": [
        "# Preprocessing\n",
        "\n",
        "Sebelum pemodelan, data dibagi ke dalam variabel x dan y. X merupakan semua variabel bebas dan y merupakan target dengan 0 adalah negatif penyakit jantung dan 1 adalah positif penyakit jantung. \n",
        "\n",
        "Pembagian data training dan data testing dengan komposisi 30% data testing dan 70% data training"
      ],
      "metadata": {
        "id": "O5UzBahyHah1"
      }
    },
    {
      "cell_type": "code",
      "execution_count": null,
      "metadata": {
        "id": "9iRQO-2ibFvy"
      },
      "outputs": [],
      "source": [
        "# membuat variabel x dan y\n",
        "x = df.drop(columns='target')\n",
        "y = df['target']"
      ]
    },
    {
      "cell_type": "code",
      "execution_count": null,
      "metadata": {
        "id": "g8ozcw9KdDTC"
      },
      "outputs": [],
      "source": [
        "# split data menjadi data training dan data test\n",
        "from sklearn.model_selection import train_test_split\n",
        "\n",
        "x_train, x_test, y_train, y_test = train_test_split(x, y, test_size = 0.25, random_state = 15)"
      ]
    },
    {
      "cell_type": "code",
      "source": [
        "print(f\"Train features: {x_train.shape}\")\n",
        "print(f\"Train target: {y_train.shape}\")\n",
        "print(f\"Test features: {x_test.shape}\")\n",
        "print(f\"Test target: {y_test.shape}\")"
      ],
      "metadata": {
        "colab": {
          "base_uri": "https://localhost:8080/"
        },
        "id": "3Z1_uwoSO028",
        "outputId": "ae45052d-4599-4430-b562-d7c66d8c3a11"
      },
      "execution_count": null,
      "outputs": [
        {
          "output_type": "stream",
          "name": "stdout",
          "text": [
            "Train features: (227, 13)\n",
            "Train target: (227,)\n",
            "Test features: (76, 13)\n",
            "Test target: (76,)\n"
          ]
        }
      ]
    },
    {
      "cell_type": "markdown",
      "source": [
        "# Pembuatan model\n",
        "\n",
        "Pembuatan model klasifikasi akan dilakukan dengan model *Decision Tree, Random Forest, K-Nearest Neighbors, Logistic Regression dan Naive Bayes *. Di akhir pengerjaan akan ada proses evaluasi model dengan menunjukkan Accuracy, Confusion Matrix, Precision and Recall beserta F1 score.\n",
        "Setelah pengerjaan semua model selesai, akan ada juga perbandingan tingkat akurasi dari tiap model.\n",
        "\n",
        "1. Akurasi\n",
        "\n",
        "\n",
        "*   Akurasi menyatakan rasio ketepatan prediksi dari total keseluruhan prediksi\n",
        "*   Akurasi = (Prediksi benar/total prediksi) x 100%\n",
        "\n",
        "2. Confusion matrix\n",
        "\n",
        "\n",
        "*   Rincian benar dan salah dalam setiap kelas\n",
        "*   ![pred pred.png](data:image/png;base64,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)\n",
        "\n",
        "\n",
        "a. TP (True Positive) = Pasien yang positif berpenyakit jantung dan masuk ke kelas penyakit jantung\n",
        "\n",
        "b. TN (True Negative) = Pasien yang tidak berpenyakit jantung dan dinyatakan tidak berpenyakit jantung\n",
        "\n",
        "c. FP (False Positive) = Pasien yang tidak berpenyakit jantung namun dinyatakan berpenyakit jantung\n",
        "\n",
        "d. FN (False Negative) = Pasien yang berpenyakit jantung namun dinyatakan tidak berpenyakit jantung\n",
        " \n",
        "  \n",
        "   \n",
        "\n",
        "3. Precision and Recall \n",
        "\n",
        "a. Precision menyatakan proporsi data yang diprediksi positif tepat berlabel positif\n",
        "\n",
        "b. Recall = Menyatakan proporsi data aktual berlabel positif tepat diprediksi positif oleh model\n",
        "\n",
        "\n",
        " ![PR.png](data:image/png;base64,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)\n",
        "\n",
        "4. F1 Score = \n",
        "Menunjukkan keseimbangan antara precision and recall\n",
        "\n",
        "![f1 score.png](data:image/png;base64,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)\n",
        "\n"
      ],
      "metadata": {
        "id": "m56DV13hHgth"
      }
    },
    {
      "cell_type": "markdown",
      "source": [
        "\n",
        "## Decision Tree"
      ],
      "metadata": {
        "id": "K9bHD8jg69qs"
      }
    },
    {
      "cell_type": "code",
      "source": [
        "from sklearn.tree import DecisionTreeClassifier\n",
        "\n",
        "dtc = DecisionTreeClassifier(max_depth=4, random_state=10)\n",
        "dtc.fit(x_train, y_train)"
      ],
      "metadata": {
        "id": "b97VEOhL7Itd",
        "colab": {
          "base_uri": "https://localhost:8080/"
        },
        "outputId": "cd7d7981-1daf-400a-f308-544b5f2a505b"
      },
      "execution_count": null,
      "outputs": [
        {
          "output_type": "execute_result",
          "data": {
            "text/plain": [
              "DecisionTreeClassifier(max_depth=4, random_state=10)"
            ]
          },
          "metadata": {},
          "execution_count": 17
        }
      ]
    },
    {
      "cell_type": "code",
      "source": [
        "dt_pred = dtc.predict(x_test)"
      ],
      "metadata": {
        "id": "S87L-c688SCm"
      },
      "execution_count": null,
      "outputs": []
    },
    {
      "cell_type": "code",
      "source": [
        "from sklearn import metrics\n",
        "dtscore = metrics.accuracy_score(y_test , dt_pred)\n",
        "print('Model accuracy Decision Tree : ' , dtscore)"
      ],
      "metadata": {
        "colab": {
          "base_uri": "https://localhost:8080/"
        },
        "id": "tiv0dFq7_Oh4",
        "outputId": "a0feaa3f-1d65-4800-c2a6-1dce04964857"
      },
      "execution_count": null,
      "outputs": [
        {
          "output_type": "stream",
          "name": "stdout",
          "text": [
            "Model accuracy Decision Tree :  0.6973684210526315\n"
          ]
        }
      ]
    },
    {
      "cell_type": "code",
      "source": [
        "from sklearn.metrics import confusion_matrix\n",
        "\n",
        "cmdt = confusion_matrix(y_test, dt_pred)\n",
        "sns.heatmap(cmdt, annot=True)"
      ],
      "metadata": {
        "colab": {
          "base_uri": "https://localhost:8080/",
          "height": 285
        },
        "id": "BQc-5jPjFZx2",
        "outputId": "03eec208-2b8e-49e8-9f86-8f51301d95c8"
      },
      "execution_count": null,
      "outputs": [
        {
          "output_type": "execute_result",
          "data": {
            "text/plain": [
              "<matplotlib.axes._subplots.AxesSubplot at 0x7fa5769245d0>"
            ]
          },
          "metadata": {},
          "execution_count": 20
        },
        {
          "output_type": "display_data",
          "data": {
            "image/png": "[encoded data removed]",
            "text/plain": [
              "<Figure size 432x288 with 2 Axes>"
            ]
          },
          "metadata": {}
        }
      ]
    },
    {
      "cell_type": "markdown",
      "source": [
        "Dari 76 data test, 32 data positif terprediksi positif, 9 data negatif terprediksi positif, 14 data negatif terprediksi positif, 21 data negatif terprediksi negatif"
      ],
      "metadata": {
        "id": "W-4bWOOlayPy"
      }
    },
    {
      "cell_type": "code",
      "source": [
        "from sklearn.metrics import classification_report\n",
        "print(classification_report(y_test,dt_pred))"
      ],
      "metadata": {
        "colab": {
          "base_uri": "https://localhost:8080/"
        },
        "id": "mnOr4YsKFc_E",
        "outputId": "b578519c-a1c9-44bc-f64c-017d82d3886e"
      },
      "execution_count": null,
      "outputs": [
        {
          "output_type": "stream",
          "name": "stdout",
          "text": [
            "              precision    recall  f1-score   support\n",
            "\n",
            "           0       0.70      0.60      0.65        35\n",
            "           1       0.70      0.78      0.74        41\n",
            "\n",
            "    accuracy                           0.70        76\n",
            "   macro avg       0.70      0.69      0.69        76\n",
            "weighted avg       0.70      0.70      0.69        76\n",
            "\n"
          ]
        }
      ]
    },
    {
      "cell_type": "code",
      "source": [
        "hasil_prediksi = pd.DataFrame()\n",
        "hasil_prediksi['Aktual'] = y_test.values.flatten()\n",
        "hasil_prediksi['Decision Tree'] = dt_pred.flatten()\n",
        "hasil_prediksi['Decision Tree'] = hasil_prediksi['Decision Tree'].round(0)\n",
        "hasil_prediksi.head()"
      ],
      "metadata": {
        "colab": {
          "base_uri": "https://localhost:8080/",
          "height": 206
        },
        "id": "S_ZFHrIZgdui",
        "outputId": "18c7e623-30ce-4608-beaa-91cdb377ce1f"
      },
      "execution_count": null,
      "outputs": [
        {
          "output_type": "execute_result",
          "data": {
            "text/html": [
              "\n",
              "  <div id=\"df-54ee4d77-34d8-43c4-b931-6842e44e549a\">\n",
              "    <div class=\"colab-df-container\">\n",
              "      <div>\n",
              "<style scoped>\n",
              "    .dataframe tbody tr th:only-of-type {\n",
              "        vertical-align: middle;\n",
              "    }\n",
              "\n",
              "    .dataframe tbody tr th {\n",
              "        vertical-align: top;\n",
              "    }\n",
              "\n",
              "    .dataframe thead th {\n",
              "        text-align: right;\n",
              "    }\n",
              "</style>\n",
              "<table border=\"1\" class=\"dataframe\">\n",
              "  <thead>\n",
              "    <tr style=\"text-align: right;\">\n",
              "      <th></th>\n",
              "      <th>Aktual</th>\n",
              "      <th>Decision Tree</th>\n",
              "    </tr>\n",
              "  </thead>\n",
              "  <tbody>\n",
              "    <tr>\n",
              "      <th>0</th>\n",
              "      <td>0</td>\n",
              "      <td>0</td>\n",
              "    </tr>\n",
              "    <tr>\n",
              "      <th>1</th>\n",
              "      <td>0</td>\n",
              "      <td>1</td>\n",
              "    </tr>\n",
              "    <tr>\n",
              "      <th>2</th>\n",
              "      <td>1</td>\n",
              "      <td>1</td>\n",
              "    </tr>\n",
              "    <tr>\n",
              "      <th>3</th>\n",
              "      <td>1</td>\n",
              "      <td>1</td>\n",
              "    </tr>\n",
              "    <tr>\n",
              "      <th>4</th>\n",
              "      <td>1</td>\n",
              "      <td>1</td>\n",
              "    </tr>\n",
              "  </tbody>\n",
              "</table>\n",
              "</div>\n",
              "      <button class=\"colab-df-convert\" onclick=\"convertToInteractive('df-54ee4d77-34d8-43c4-b931-6842e44e549a')\"\n",
              "              title=\"Convert this dataframe to an interactive table.\"\n",
              "              style=\"display:none;\">\n",
              "        \n",
              "  <svg xmlns=\"http://www.w3.org/2000/svg\" height=\"24px\"viewBox=\"0 0 24 24\"\n",
              "       width=\"24px\">\n",
              "    <path d=\"M0 0h24v24H0V0z\" fill=\"none\"/>\n",
              "    <path d=\"M18.56 5.44l.94 2.06.94-2.06 2.06-.94-2.06-.94-.94-2.06-.94 2.06-2.06.94zm-11 1L8.5 8.5l.94-2.06 2.06-.94-2.06-.94L8.5 2.5l-.94 2.06-2.06.94zm10 10l.94 2.06.94-2.06 2.06-.94-2.06-.94-.94-2.06-.94 2.06-2.06.94z\"/><path d=\"M17.41 7.96l-1.37-1.37c-.4-.4-.92-.59-1.43-.59-.52 0-1.04.2-1.43.59L10.3 9.45l-7.72 7.72c-.78.78-.78 2.05 0 2.83L4 21.41c.39.39.9.59 1.41.59.51 0 1.02-.2 1.41-.59l7.78-7.78 2.81-2.81c.8-.78.8-2.07 0-2.86zM5.41 20L4 18.59l7.72-7.72 1.47 1.35L5.41 20z\"/>\n",
              "  </svg>\n",
              "      </button>\n",
              "      \n",
              "  <style>\n",
              "    .colab-df-container {\n",
              "      display:flex;\n",
              "      flex-wrap:wrap;\n",
              "      gap: 12px;\n",
              "    }\n",
              "\n",
              "    .colab-df-convert {\n",
              "      background-color: #E8F0FE;\n",
              "      border: none;\n",
              "      border-radius: 50%;\n",
              "      cursor: pointer;\n",
              "      display: none;\n",
              "      fill: #1967D2;\n",
              "      height: 32px;\n",
              "      padding: 0 0 0 0;\n",
              "      width: 32px;\n",
              "    }\n",
              "\n",
              "    .colab-df-convert:hover {\n",
              "      background-color: #E2EBFA;\n",
              "      box-shadow: 0px 1px 2px rgba(60, 64, 67, 0.3), 0px 1px 3px 1px rgba(60, 64, 67, 0.15);\n",
              "      fill: #174EA6;\n",
              "    }\n",
              "\n",
              "    [theme=dark] .colab-df-convert {\n",
              "      background-color: #3B4455;\n",
              "      fill: #D2E3FC;\n",
              "    }\n",
              "\n",
              "    [theme=dark] .colab-df-convert:hover {\n",
              "      background-color: #434B5C;\n",
              "      box-shadow: 0px 1px 3px 1px rgba(0, 0, 0, 0.15);\n",
              "      filter: drop-shadow(0px 1px 2px rgba(0, 0, 0, 0.3));\n",
              "      fill: #FFFFFF;\n",
              "    }\n",
              "  </style>\n",
              "\n",
              "      <script>\n",
              "        const buttonEl =\n",
              "          document.querySelector('#df-54ee4d77-34d8-43c4-b931-6842e44e549a button.colab-df-convert');\n",
              "        buttonEl.style.display =\n",
              "          google.colab.kernel.accessAllowed ? 'block' : 'none';\n",
              "\n",
              "        async function convertToInteractive(key) {\n",
              "          const element = document.querySelector('#df-54ee4d77-34d8-43c4-b931-6842e44e549a');\n",
              "          const dataTable =\n",
              "            await google.colab.kernel.invokeFunction('convertToInteractive',\n",
              "                                                     [key], {});\n",
              "          if (!dataTable) return;\n",
              "\n",
              "          const docLinkHtml = 'Like what you see? Visit the ' +\n",
              "            '<a target=\"_blank\" href=https://colab.research.google.com/notebooks/data_table.ipynb>data table notebook</a>'\n",
              "            + ' to learn more about interactive tables.';\n",
              "          element.innerHTML = '';\n",
              "          dataTable['output_type'] = 'display_data';\n",
              "          await google.colab.output.renderOutput(dataTable, element);\n",
              "          const docLink = document.createElement('div');\n",
              "          docLink.innerHTML = docLinkHtml;\n",
              "          element.appendChild(docLink);\n",
              "        }\n",
              "      </script>\n",
              "    </div>\n",
              "  </div>\n",
              "  "
            ],
            "text/plain": [
              "   Aktual  Decision Tree\n",
              "0       0              0\n",
              "1       0              1\n",
              "2       1              1\n",
              "3       1              1\n",
              "4       1              1"
            ]
          },
          "metadata": {},
          "execution_count": 22
        }
      ]
    },
    {
      "cell_type": "markdown",
      "source": [
        "## Random Forest"
      ],
      "metadata": {
        "id": "V95E4KfsGWbI"
      }
    },
    {
      "cell_type": "code",
      "source": [
        "from sklearn.ensemble import RandomForestClassifier\n",
        "rfc = RandomForestClassifier()\n",
        "rfc.fit(x_train, y_train)"
      ],
      "metadata": {
        "id": "StTqlM28IYQk",
        "outputId": "15ca7419-30df-47ec-cc78-7df4710b2c7b",
        "colab": {
          "base_uri": "https://localhost:8080/"
        }
      },
      "execution_count": null,
      "outputs": [
        {
          "output_type": "execute_result",
          "data": {
            "text/plain": [
              "RandomForestClassifier()"
            ]
          },
          "metadata": {},
          "execution_count": 23
        }
      ]
    },
    {
      "cell_type": "code",
      "source": [
        "rf_pred = rfc.predict(x_test)"
      ],
      "metadata": {
        "id": "Is5ZIMbVchIH"
      },
      "execution_count": null,
      "outputs": []
    },
    {
      "cell_type": "code",
      "source": [
        "rfscore = metrics.accuracy_score(y_test , rf_pred)\n",
        "print('Model accuracy Random Forest : ' , rfscore)"
      ],
      "metadata": {
        "id": "vKI16xSS52Oj",
        "colab": {
          "base_uri": "https://localhost:8080/"
        },
        "outputId": "17435b53-fcc5-4a8d-e1cc-334499981cd3"
      },
      "execution_count": null,
      "outputs": [
        {
          "output_type": "stream",
          "name": "stdout",
          "text": [
            "Model accuracy Random Forest :  0.7631578947368421\n"
          ]
        }
      ]
    },
    {
      "cell_type": "code",
      "source": [
        "cmrf = confusion_matrix(y_test, rf_pred)\n",
        "sns.heatmap(cmrf, annot=True)"
      ],
      "metadata": {
        "colab": {
          "base_uri": "https://localhost:8080/",
          "height": 288
        },
        "id": "LfO_YUdgHB3Q",
        "outputId": "65dc70b2-9fdd-4869-eb68-f093b1c6bebd"
      },
      "execution_count": null,
      "outputs": [
        {
          "output_type": "execute_result",
          "data": {
            "text/plain": [
              "<matplotlib.axes._subplots.AxesSubplot at 0x7fa571e69cd0>"
            ]
          },
          "metadata": {},
          "execution_count": 26
        },
        {
          "output_type": "display_data",
          "data": {
            "image/png": "[encoded data removed]",
            "text/plain": [
              "<Figure size 432x288 with 2 Axes>"
            ]
          },
          "metadata": {}
        }
      ]
    },
    {
      "cell_type": "markdown",
      "source": [
        "Dari 76 data test, 28 data positif terprediksi positif, 13 data negatif terprediksi positif, 5 data negatif terprediksi positif, 30 data negatif terprediksi negatif"
      ],
      "metadata": {
        "id": "060mBZKFdO5t"
      }
    },
    {
      "cell_type": "code",
      "source": [
        "print(classification_report(y_test,rf_pred))"
      ],
      "metadata": {
        "colab": {
          "base_uri": "https://localhost:8080/"
        },
        "id": "fkdYawlKvDpT",
        "outputId": "ee315588-dd25-4eae-c990-2bc2ff58e258"
      },
      "execution_count": null,
      "outputs": [
        {
          "output_type": "stream",
          "name": "stdout",
          "text": [
            "              precision    recall  f1-score   support\n",
            "\n",
            "           0       0.70      0.86      0.77        35\n",
            "           1       0.85      0.68      0.76        41\n",
            "\n",
            "    accuracy                           0.76        76\n",
            "   macro avg       0.77      0.77      0.76        76\n",
            "weighted avg       0.78      0.76      0.76        76\n",
            "\n"
          ]
        }
      ]
    },
    {
      "cell_type": "code",
      "source": [
        "hasil_prediksi['Random Forest'] = rf_pred.flatten()\n",
        "hasil_prediksi['Random Forest'] = hasil_prediksi['Random Forest'].round(0)\n",
        "hasil_prediksi.head(5)"
      ],
      "metadata": {
        "colab": {
          "base_uri": "https://localhost:8080/",
          "height": 206
        },
        "id": "67iTim_Gf1ga",
        "outputId": "c0c7a766-42e6-45a3-9011-a1045dee3744"
      },
      "execution_count": null,
      "outputs": [
        {
          "output_type": "execute_result",
          "data": {
            "text/html": [
              "\n",
              "  <div id=\"df-0114d70b-7bb3-45ef-a8d0-e8a7f77df29a\">\n",
              "    <div class=\"colab-df-container\">\n",
              "      <div>\n",
              "<style scoped>\n",
              "    .dataframe tbody tr th:only-of-type {\n",
              "        vertical-align: middle;\n",
              "    }\n",
              "\n",
              "    .dataframe tbody tr th {\n",
              "        vertical-align: top;\n",
              "    }\n",
              "\n",
              "    .dataframe thead th {\n",
              "        text-align: right;\n",
              "    }\n",
              "</style>\n",
              "<table border=\"1\" class=\"dataframe\">\n",
              "  <thead>\n",
              "    <tr style=\"text-align: right;\">\n",
              "      <th></th>\n",
              "      <th>Aktual</th>\n",
              "      <th>Decision Tree</th>\n",
              "      <th>Random Forest</th>\n",
              "    </tr>\n",
              "  </thead>\n",
              "  <tbody>\n",
              "    <tr>\n",
              "      <th>0</th>\n",
              "      <td>0</td>\n",
              "      <td>0</td>\n",
              "      <td>0</td>\n",
              "    </tr>\n",
              "    <tr>\n",
              "      <th>1</th>\n",
              "      <td>0</td>\n",
              "      <td>1</td>\n",
              "      <td>0</td>\n",
              "    </tr>\n",
              "    <tr>\n",
              "      <th>2</th>\n",
              "      <td>1</td>\n",
              "      <td>1</td>\n",
              "      <td>1</td>\n",
              "    </tr>\n",
              "    <tr>\n",
              "      <th>3</th>\n",
              "      <td>1</td>\n",
              "      <td>1</td>\n",
              "      <td>1</td>\n",
              "    </tr>\n",
              "    <tr>\n",
              "      <th>4</th>\n",
              "      <td>1</td>\n",
              "      <td>1</td>\n",
              "      <td>1</td>\n",
              "    </tr>\n",
              "  </tbody>\n",
              "</table>\n",
              "</div>\n",
              "      <button class=\"colab-df-convert\" onclick=\"convertToInteractive('df-0114d70b-7bb3-45ef-a8d0-e8a7f77df29a')\"\n",
              "              title=\"Convert this dataframe to an interactive table.\"\n",
              "              style=\"display:none;\">\n",
              "        \n",
              "  <svg xmlns=\"http://www.w3.org/2000/svg\" height=\"24px\"viewBox=\"0 0 24 24\"\n",
              "       width=\"24px\">\n",
              "    <path d=\"M0 0h24v24H0V0z\" fill=\"none\"/>\n",
              "    <path d=\"M18.56 5.44l.94 2.06.94-2.06 2.06-.94-2.06-.94-.94-2.06-.94 2.06-2.06.94zm-11 1L8.5 8.5l.94-2.06 2.06-.94-2.06-.94L8.5 2.5l-.94 2.06-2.06.94zm10 10l.94 2.06.94-2.06 2.06-.94-2.06-.94-.94-2.06-.94 2.06-2.06.94z\"/><path d=\"M17.41 7.96l-1.37-1.37c-.4-.4-.92-.59-1.43-.59-.52 0-1.04.2-1.43.59L10.3 9.45l-7.72 7.72c-.78.78-.78 2.05 0 2.83L4 21.41c.39.39.9.59 1.41.59.51 0 1.02-.2 1.41-.59l7.78-7.78 2.81-2.81c.8-.78.8-2.07 0-2.86zM5.41 20L4 18.59l7.72-7.72 1.47 1.35L5.41 20z\"/>\n",
              "  </svg>\n",
              "      </button>\n",
              "      \n",
              "  <style>\n",
              "    .colab-df-container {\n",
              "      display:flex;\n",
              "      flex-wrap:wrap;\n",
              "      gap: 12px;\n",
              "    }\n",
              "\n",
              "    .colab-df-convert {\n",
              "      background-color: #E8F0FE;\n",
              "      border: none;\n",
              "      border-radius: 50%;\n",
              "      cursor: pointer;\n",
              "      display: none;\n",
              "      fill: #1967D2;\n",
              "      height: 32px;\n",
              "      padding: 0 0 0 0;\n",
              "      width: 32px;\n",
              "    }\n",
              "\n",
              "    .colab-df-convert:hover {\n",
              "      background-color: #E2EBFA;\n",
              "      box-shadow: 0px 1px 2px rgba(60, 64, 67, 0.3), 0px 1px 3px 1px rgba(60, 64, 67, 0.15);\n",
              "      fill: #174EA6;\n",
              "    }\n",
              "\n",
              "    [theme=dark] .colab-df-convert {\n",
              "      background-color: #3B4455;\n",
              "      fill: #D2E3FC;\n",
              "    }\n",
              "\n",
              "    [theme=dark] .colab-df-convert:hover {\n",
              "      background-color: #434B5C;\n",
              "      box-shadow: 0px 1px 3px 1px rgba(0, 0, 0, 0.15);\n",
              "      filter: drop-shadow(0px 1px 2px rgba(0, 0, 0, 0.3));\n",
              "      fill: #FFFFFF;\n",
              "    }\n",
              "  </style>\n",
              "\n",
              "      <script>\n",
              "        const buttonEl =\n",
              "          document.querySelector('#df-0114d70b-7bb3-45ef-a8d0-e8a7f77df29a button.colab-df-convert');\n",
              "        buttonEl.style.display =\n",
              "          google.colab.kernel.accessAllowed ? 'block' : 'none';\n",
              "\n",
              "        async function convertToInteractive(key) {\n",
              "          const element = document.querySelector('#df-0114d70b-7bb3-45ef-a8d0-e8a7f77df29a');\n",
              "          const dataTable =\n",
              "            await google.colab.kernel.invokeFunction('convertToInteractive',\n",
              "                                                     [key], {});\n",
              "          if (!dataTable) return;\n",
              "\n",
              "          const docLinkHtml = 'Like what you see? Visit the ' +\n",
              "            '<a target=\"_blank\" href=https://colab.research.google.com/notebooks/data_table.ipynb>data table notebook</a>'\n",
              "            + ' to learn more about interactive tables.';\n",
              "          element.innerHTML = '';\n",
              "          dataTable['output_type'] = 'display_data';\n",
              "          await google.colab.output.renderOutput(dataTable, element);\n",
              "          const docLink = document.createElement('div');\n",
              "          docLink.innerHTML = docLinkHtml;\n",
              "          element.appendChild(docLink);\n",
              "        }\n",
              "      </script>\n",
              "    </div>\n",
              "  </div>\n",
              "  "
            ],
            "text/plain": [
              "   Aktual  Decision Tree  Random Forest\n",
              "0       0              0              0\n",
              "1       0              1              0\n",
              "2       1              1              1\n",
              "3       1              1              1\n",
              "4       1              1              1"
            ]
          },
          "metadata": {},
          "execution_count": 28
        }
      ]
    },
    {
      "cell_type": "markdown",
      "source": [
        "## Logistic Regression"
      ],
      "metadata": {
        "id": "HQI5ruwcHsYl"
      }
    },
    {
      "cell_type": "code",
      "source": [
        "from sklearn.linear_model import LogisticRegression\n",
        "\n",
        "lrc = LogisticRegression(max_iter=np.inf)\n",
        "lrc.fit(x_train, y_train)"
      ],
      "metadata": {
        "colab": {
          "base_uri": "https://localhost:8080/"
        },
        "id": "R6ocsN3sHxFI",
        "outputId": "988f5407-d5d0-4540-cf1d-458e0d15670c"
      },
      "execution_count": null,
      "outputs": [
        {
          "output_type": "execute_result",
          "data": {
            "text/plain": [
              "LogisticRegression(max_iter=inf)"
            ]
          },
          "metadata": {},
          "execution_count": 29
        }
      ]
    },
    {
      "cell_type": "code",
      "source": [
        "lr_pred = lrc.predict(x_test)"
      ],
      "metadata": {
        "id": "oKZhtBw2IN12"
      },
      "execution_count": null,
      "outputs": []
    },
    {
      "cell_type": "code",
      "source": [
        "lrscore = metrics.accuracy_score(y_test , lr_pred)\n",
        "print('Model accuracy Logistic Regression : ' , lrscore)"
      ],
      "metadata": {
        "colab": {
          "base_uri": "https://localhost:8080/"
        },
        "id": "Mu_X2xPsIWEQ",
        "outputId": "2597ced9-0f43-4a16-f356-1c7f8dacaf48"
      },
      "execution_count": null,
      "outputs": [
        {
          "output_type": "stream",
          "name": "stdout",
          "text": [
            "Model accuracy Logistic Regression :  0.7631578947368421\n"
          ]
        }
      ]
    },
    {
      "cell_type": "code",
      "source": [
        "cmlr = confusion_matrix(y_test, lr_pred)\n",
        "sns.heatmap(cmlr, annot=True)"
      ],
      "metadata": {
        "colab": {
          "base_uri": "https://localhost:8080/",
          "height": 285
        },
        "id": "F7ih4nJIIj97",
        "outputId": "25b6ea62-8b8f-41bd-cba1-02110488f3bb"
      },
      "execution_count": null,
      "outputs": [
        {
          "output_type": "execute_result",
          "data": {
            "text/plain": [
              "<matplotlib.axes._subplots.AxesSubplot at 0x7fa571db4110>"
            ]
          },
          "metadata": {},
          "execution_count": 32
        },
        {
          "output_type": "display_data",
          "data": {
            "image/png": "[encoded data removed]",
            "text/plain": [
              "<Figure size 432x288 with 2 Axes>"
            ]
          },
          "metadata": {}
        }
      ]
    },
    {
      "cell_type": "markdown",
      "source": [
        "Dari 76 data test, 31 data positif terprediksi positif, 10 data negatif terprediksi positif, 8 data negatif terprediksi positif, 27 data negatif terprediksi negatif"
      ],
      "metadata": {
        "id": "sMc-UDM0dbtU"
      }
    },
    {
      "cell_type": "code",
      "source": [
        "print(classification_report(y_test,lr_pred))"
      ],
      "metadata": {
        "colab": {
          "base_uri": "https://localhost:8080/"
        },
        "id": "jyzhzpPGIugg",
        "outputId": "4b25e635-6ce1-4522-f6a1-a647648f6b4c"
      },
      "execution_count": null,
      "outputs": [
        {
          "output_type": "stream",
          "name": "stdout",
          "text": [
            "              precision    recall  f1-score   support\n",
            "\n",
            "           0       0.73      0.77      0.75        35\n",
            "           1       0.79      0.76      0.77        41\n",
            "\n",
            "    accuracy                           0.76        76\n",
            "   macro avg       0.76      0.76      0.76        76\n",
            "weighted avg       0.76      0.76      0.76        76\n",
            "\n"
          ]
        }
      ]
    },
    {
      "cell_type": "code",
      "source": [
        "hasil_prediksi['Logistic Regression'] = lr_pred.flatten()\n",
        "hasil_prediksi['Logistic Regression'] = hasil_prediksi['Logistic Regression'].round(0)\n",
        "hasil_prediksi.head()"
      ],
      "metadata": {
        "colab": {
          "base_uri": "https://localhost:8080/",
          "height": 206
        },
        "id": "ALY2qhKjIzUM",
        "outputId": "fc28f535-faeb-4435-9bae-02a5a94822c9"
      },
      "execution_count": null,
      "outputs": [
        {
          "output_type": "execute_result",
          "data": {
            "text/html": [
              "\n",
              "  <div id=\"df-a039b214-23ea-4870-a962-141459198862\">\n",
              "    <div class=\"colab-df-container\">\n",
              "      <div>\n",
              "<style scoped>\n",
              "    .dataframe tbody tr th:only-of-type {\n",
              "        vertical-align: middle;\n",
              "    }\n",
              "\n",
              "    .dataframe tbody tr th {\n",
              "        vertical-align: top;\n",
              "    }\n",
              "\n",
              "    .dataframe thead th {\n",
              "        text-align: right;\n",
              "    }\n",
              "</style>\n",
              "<table border=\"1\" class=\"dataframe\">\n",
              "  <thead>\n",
              "    <tr style=\"text-align: right;\">\n",
              "      <th></th>\n",
              "      <th>Aktual</th>\n",
              "      <th>Decision Tree</th>\n",
              "      <th>Random Forest</th>\n",
              "      <th>Logistic Regression</th>\n",
              "    </tr>\n",
              "  </thead>\n",
              "  <tbody>\n",
              "    <tr>\n",
              "      <th>0</th>\n",
              "      <td>0</td>\n",
              "      <td>0</td>\n",
              "      <td>0</td>\n",
              "      <td>0</td>\n",
              "    </tr>\n",
              "    <tr>\n",
              "      <th>1</th>\n",
              "      <td>0</td>\n",
              "      <td>1</td>\n",
              "      <td>0</td>\n",
              "      <td>0</td>\n",
              "    </tr>\n",
              "    <tr>\n",
              "      <th>2</th>\n",
              "      <td>1</td>\n",
              "      <td>1</td>\n",
              "      <td>1</td>\n",
              "      <td>1</td>\n",
              "    </tr>\n",
              "    <tr>\n",
              "      <th>3</th>\n",
              "      <td>1</td>\n",
              "      <td>1</td>\n",
              "      <td>1</td>\n",
              "      <td>1</td>\n",
              "    </tr>\n",
              "    <tr>\n",
              "      <th>4</th>\n",
              "      <td>1</td>\n",
              "      <td>1</td>\n",
              "      <td>1</td>\n",
              "      <td>1</td>\n",
              "    </tr>\n",
              "  </tbody>\n",
              "</table>\n",
              "</div>\n",
              "      <button class=\"colab-df-convert\" onclick=\"convertToInteractive('df-a039b214-23ea-4870-a962-141459198862')\"\n",
              "              title=\"Convert this dataframe to an interactive table.\"\n",
              "              style=\"display:none;\">\n",
              "        \n",
              "  <svg xmlns=\"http://www.w3.org/2000/svg\" height=\"24px\"viewBox=\"0 0 24 24\"\n",
              "       width=\"24px\">\n",
              "    <path d=\"M0 0h24v24H0V0z\" fill=\"none\"/>\n",
              "    <path d=\"M18.56 5.44l.94 2.06.94-2.06 2.06-.94-2.06-.94-.94-2.06-.94 2.06-2.06.94zm-11 1L8.5 8.5l.94-2.06 2.06-.94-2.06-.94L8.5 2.5l-.94 2.06-2.06.94zm10 10l.94 2.06.94-2.06 2.06-.94-2.06-.94-.94-2.06-.94 2.06-2.06.94z\"/><path d=\"M17.41 7.96l-1.37-1.37c-.4-.4-.92-.59-1.43-.59-.52 0-1.04.2-1.43.59L10.3 9.45l-7.72 7.72c-.78.78-.78 2.05 0 2.83L4 21.41c.39.39.9.59 1.41.59.51 0 1.02-.2 1.41-.59l7.78-7.78 2.81-2.81c.8-.78.8-2.07 0-2.86zM5.41 20L4 18.59l7.72-7.72 1.47 1.35L5.41 20z\"/>\n",
              "  </svg>\n",
              "      </button>\n",
              "      \n",
              "  <style>\n",
              "    .colab-df-container {\n",
              "      display:flex;\n",
              "      flex-wrap:wrap;\n",
              "      gap: 12px;\n",
              "    }\n",
              "\n",
              "    .colab-df-convert {\n",
              "      background-color: #E8F0FE;\n",
              "      border: none;\n",
              "      border-radius: 50%;\n",
              "      cursor: pointer;\n",
              "      display: none;\n",
              "      fill: #1967D2;\n",
              "      height: 32px;\n",
              "      padding: 0 0 0 0;\n",
              "      width: 32px;\n",
              "    }\n",
              "\n",
              "    .colab-df-convert:hover {\n",
              "      background-color: #E2EBFA;\n",
              "      box-shadow: 0px 1px 2px rgba(60, 64, 67, 0.3), 0px 1px 3px 1px rgba(60, 64, 67, 0.15);\n",
              "      fill: #174EA6;\n",
              "    }\n",
              "\n",
              "    [theme=dark] .colab-df-convert {\n",
              "      background-color: #3B4455;\n",
              "      fill: #D2E3FC;\n",
              "    }\n",
              "\n",
              "    [theme=dark] .colab-df-convert:hover {\n",
              "      background-color: #434B5C;\n",
              "      box-shadow: 0px 1px 3px 1px rgba(0, 0, 0, 0.15);\n",
              "      filter: drop-shadow(0px 1px 2px rgba(0, 0, 0, 0.3));\n",
              "      fill: #FFFFFF;\n",
              "    }\n",
              "  </style>\n",
              "\n",
              "      <script>\n",
              "        const buttonEl =\n",
              "          document.querySelector('#df-a039b214-23ea-4870-a962-141459198862 button.colab-df-convert');\n",
              "        buttonEl.style.display =\n",
              "          google.colab.kernel.accessAllowed ? 'block' : 'none';\n",
              "\n",
              "        async function convertToInteractive(key) {\n",
              "          const element = document.querySelector('#df-a039b214-23ea-4870-a962-141459198862');\n",
              "          const dataTable =\n",
              "            await google.colab.kernel.invokeFunction('convertToInteractive',\n",
              "                                                     [key], {});\n",
              "          if (!dataTable) return;\n",
              "\n",
              "          const docLinkHtml = 'Like what you see? Visit the ' +\n",
              "            '<a target=\"_blank\" href=https://colab.research.google.com/notebooks/data_table.ipynb>data table notebook</a>'\n",
              "            + ' to learn more about interactive tables.';\n",
              "          element.innerHTML = '';\n",
              "          dataTable['output_type'] = 'display_data';\n",
              "          await google.colab.output.renderOutput(dataTable, element);\n",
              "          const docLink = document.createElement('div');\n",
              "          docLink.innerHTML = docLinkHtml;\n",
              "          element.appendChild(docLink);\n",
              "        }\n",
              "      </script>\n",
              "    </div>\n",
              "  </div>\n",
              "  "
            ],
            "text/plain": [
              "   Aktual  Decision Tree  Random Forest  Logistic Regression\n",
              "0       0              0              0                    0\n",
              "1       0              1              0                    0\n",
              "2       1              1              1                    1\n",
              "3       1              1              1                    1\n",
              "4       1              1              1                    1"
            ]
          },
          "metadata": {},
          "execution_count": 34
        }
      ]
    },
    {
      "cell_type": "markdown",
      "source": [
        "## Naive Bayes"
      ],
      "metadata": {
        "id": "fetC9-HtAQ7N"
      }
    },
    {
      "cell_type": "code",
      "source": [
        "# Import model gaussian\n",
        "\n",
        "from sklearn.naive_bayes import GaussianNB\n",
        "\n",
        "nbc = GaussianNB()\n",
        "nbtrain = nbc.fit(x_train, y_train)"
      ],
      "metadata": {
        "id": "qo38mln7CiYT"
      },
      "execution_count": null,
      "outputs": []
    },
    {
      "cell_type": "code",
      "source": [
        "# prediksi\n",
        "nb_pred = nbtrain.predict(x_test)"
      ],
      "metadata": {
        "id": "iweM3sYoDI8X"
      },
      "execution_count": null,
      "outputs": []
    },
    {
      "cell_type": "code",
      "source": [
        "#cek akurasi\n",
        "nbscore = metrics.accuracy_score(y_test , nb_pred)\n",
        "print('Model accuracy Naive Bayes : ' , nbscore)"
      ],
      "metadata": {
        "colab": {
          "base_uri": "https://localhost:8080/"
        },
        "id": "NOvQdHELDrpb",
        "outputId": "8d298efc-2a50-492b-e4a3-304c36005d52"
      },
      "execution_count": null,
      "outputs": [
        {
          "output_type": "stream",
          "name": "stdout",
          "text": [
            "Model accuracy Naive Bayes :  0.8026315789473685\n"
          ]
        }
      ]
    },
    {
      "cell_type": "code",
      "source": [
        "cmnb = confusion_matrix(y_test, nb_pred)\n",
        "sns.heatmap(cmnb, annot=True)"
      ],
      "metadata": {
        "colab": {
          "base_uri": "https://localhost:8080/",
          "height": 285
        },
        "id": "427T-BmEEj0-",
        "outputId": "d9e5f64a-48d4-4a59-f232-01793cfe0fcc"
      },
      "execution_count": null,
      "outputs": [
        {
          "output_type": "execute_result",
          "data": {
            "text/plain": [
              "<matplotlib.axes._subplots.AxesSubplot at 0x7fa576944310>"
            ]
          },
          "metadata": {},
          "execution_count": 38
        },
        {
          "output_type": "display_data",
          "data": {
            "image/png": "[encoded data removed]",
            "text/plain": [
              "<Figure size 432x288 with 2 Axes>"
            ]
          },
          "metadata": {}
        }
      ]
    },
    {
      "cell_type": "markdown",
      "source": [
        "Dari 76 data test, 30 data positif terprediksi positif, 11 data negatif terprediksi positif, 4 data negatif terprediksi positif, 31 data negatif terprediksi negatif"
      ],
      "metadata": {
        "id": "mTwvL_2UdlFz"
      }
    },
    {
      "cell_type": "code",
      "source": [
        "print(classification_report(y_test,nb_pred))"
      ],
      "metadata": {
        "colab": {
          "base_uri": "https://localhost:8080/"
        },
        "id": "kdXoMqkHEqQ7",
        "outputId": "85a8c679-0b1e-4050-f858-dd8f814b491c"
      },
      "execution_count": null,
      "outputs": [
        {
          "output_type": "stream",
          "name": "stdout",
          "text": [
            "              precision    recall  f1-score   support\n",
            "\n",
            "           0       0.74      0.89      0.81        35\n",
            "           1       0.88      0.73      0.80        41\n",
            "\n",
            "    accuracy                           0.80        76\n",
            "   macro avg       0.81      0.81      0.80        76\n",
            "weighted avg       0.82      0.80      0.80        76\n",
            "\n"
          ]
        }
      ]
    },
    {
      "cell_type": "code",
      "source": [
        "hasil_prediksi['Naive Bayes'] = nb_pred.flatten()\n",
        "hasil_prediksi['Naive Bayes'] = hasil_prediksi['Naive Bayes'].round(0)\n",
        "hasil_prediksi.head()"
      ],
      "metadata": {
        "colab": {
          "base_uri": "https://localhost:8080/",
          "height": 206
        },
        "id": "R8-jnVPog529",
        "outputId": "8e68870a-a315-4ef6-b659-1875b541e4b7"
      },
      "execution_count": null,
      "outputs": [
        {
          "output_type": "execute_result",
          "data": {
            "text/html": [
              "\n",
              "  <div id=\"df-43595dc7-975b-484a-a842-3c7db9afa822\">\n",
              "    <div class=\"colab-df-container\">\n",
              "      <div>\n",
              "<style scoped>\n",
              "    .dataframe tbody tr th:only-of-type {\n",
              "        vertical-align: middle;\n",
              "    }\n",
              "\n",
              "    .dataframe tbody tr th {\n",
              "        vertical-align: top;\n",
              "    }\n",
              "\n",
              "    .dataframe thead th {\n",
              "        text-align: right;\n",
              "    }\n",
              "</style>\n",
              "<table border=\"1\" class=\"dataframe\">\n",
              "  <thead>\n",
              "    <tr style=\"text-align: right;\">\n",
              "      <th></th>\n",
              "      <th>Aktual</th>\n",
              "      <th>Decision Tree</th>\n",
              "      <th>Random Forest</th>\n",
              "      <th>Logistic Regression</th>\n",
              "      <th>Naive Bayes</th>\n",
              "    </tr>\n",
              "  </thead>\n",
              "  <tbody>\n",
              "    <tr>\n",
              "      <th>0</th>\n",
              "      <td>0</td>\n",
              "      <td>0</td>\n",
              "      <td>0</td>\n",
              "      <td>0</td>\n",
              "      <td>0</td>\n",
              "    </tr>\n",
              "    <tr>\n",
              "      <th>1</th>\n",
              "      <td>0</td>\n",
              "      <td>1</td>\n",
              "      <td>0</td>\n",
              "      <td>0</td>\n",
              "      <td>0</td>\n",
              "    </tr>\n",
              "    <tr>\n",
              "      <th>2</th>\n",
              "      <td>1</td>\n",
              "      <td>1</td>\n",
              "      <td>1</td>\n",
              "      <td>1</td>\n",
              "      <td>1</td>\n",
              "    </tr>\n",
              "    <tr>\n",
              "      <th>3</th>\n",
              "      <td>1</td>\n",
              "      <td>1</td>\n",
              "      <td>1</td>\n",
              "      <td>1</td>\n",
              "      <td>1</td>\n",
              "    </tr>\n",
              "    <tr>\n",
              "      <th>4</th>\n",
              "      <td>1</td>\n",
              "      <td>1</td>\n",
              "      <td>1</td>\n",
              "      <td>1</td>\n",
              "      <td>1</td>\n",
              "    </tr>\n",
              "  </tbody>\n",
              "</table>\n",
              "</div>\n",
              "      <button class=\"colab-df-convert\" onclick=\"convertToInteractive('df-43595dc7-975b-484a-a842-3c7db9afa822')\"\n",
              "              title=\"Convert this dataframe to an interactive table.\"\n",
              "              style=\"display:none;\">\n",
              "        \n",
              "  <svg xmlns=\"http://www.w3.org/2000/svg\" height=\"24px\"viewBox=\"0 0 24 24\"\n",
              "       width=\"24px\">\n",
              "    <path d=\"M0 0h24v24H0V0z\" fill=\"none\"/>\n",
              "    <path d=\"M18.56 5.44l.94 2.06.94-2.06 2.06-.94-2.06-.94-.94-2.06-.94 2.06-2.06.94zm-11 1L8.5 8.5l.94-2.06 2.06-.94-2.06-.94L8.5 2.5l-.94 2.06-2.06.94zm10 10l.94 2.06.94-2.06 2.06-.94-2.06-.94-.94-2.06-.94 2.06-2.06.94z\"/><path d=\"M17.41 7.96l-1.37-1.37c-.4-.4-.92-.59-1.43-.59-.52 0-1.04.2-1.43.59L10.3 9.45l-7.72 7.72c-.78.78-.78 2.05 0 2.83L4 21.41c.39.39.9.59 1.41.59.51 0 1.02-.2 1.41-.59l7.78-7.78 2.81-2.81c.8-.78.8-2.07 0-2.86zM5.41 20L4 18.59l7.72-7.72 1.47 1.35L5.41 20z\"/>\n",
              "  </svg>\n",
              "      </button>\n",
              "      \n",
              "  <style>\n",
              "    .colab-df-container {\n",
              "      display:flex;\n",
              "      flex-wrap:wrap;\n",
              "      gap: 12px;\n",
              "    }\n",
              "\n",
              "    .colab-df-convert {\n",
              "      background-color: #E8F0FE;\n",
              "      border: none;\n",
              "      border-radius: 50%;\n",
              "      cursor: pointer;\n",
              "      display: none;\n",
              "      fill: #1967D2;\n",
              "      height: 32px;\n",
              "      padding: 0 0 0 0;\n",
              "      width: 32px;\n",
              "    }\n",
              "\n",
              "    .colab-df-convert:hover {\n",
              "      background-color: #E2EBFA;\n",
              "      box-shadow: 0px 1px 2px rgba(60, 64, 67, 0.3), 0px 1px 3px 1px rgba(60, 64, 67, 0.15);\n",
              "      fill: #174EA6;\n",
              "    }\n",
              "\n",
              "    [theme=dark] .colab-df-convert {\n",
              "      background-color: #3B4455;\n",
              "      fill: #D2E3FC;\n",
              "    }\n",
              "\n",
              "    [theme=dark] .colab-df-convert:hover {\n",
              "      background-color: #434B5C;\n",
              "      box-shadow: 0px 1px 3px 1px rgba(0, 0, 0, 0.15);\n",
              "      filter: drop-shadow(0px 1px 2px rgba(0, 0, 0, 0.3));\n",
              "      fill: #FFFFFF;\n",
              "    }\n",
              "  </style>\n",
              "\n",
              "      <script>\n",
              "        const buttonEl =\n",
              "          document.querySelector('#df-43595dc7-975b-484a-a842-3c7db9afa822 button.colab-df-convert');\n",
              "        buttonEl.style.display =\n",
              "          google.colab.kernel.accessAllowed ? 'block' : 'none';\n",
              "\n",
              "        async function convertToInteractive(key) {\n",
              "          const element = document.querySelector('#df-43595dc7-975b-484a-a842-3c7db9afa822');\n",
              "          const dataTable =\n",
              "            await google.colab.kernel.invokeFunction('convertToInteractive',\n",
              "                                                     [key], {});\n",
              "          if (!dataTable) return;\n",
              "\n",
              "          const docLinkHtml = 'Like what you see? Visit the ' +\n",
              "            '<a target=\"_blank\" href=https://colab.research.google.com/notebooks/data_table.ipynb>data table notebook</a>'\n",
              "            + ' to learn more about interactive tables.';\n",
              "          element.innerHTML = '';\n",
              "          dataTable['output_type'] = 'display_data';\n",
              "          await google.colab.output.renderOutput(dataTable, element);\n",
              "          const docLink = document.createElement('div');\n",
              "          docLink.innerHTML = docLinkHtml;\n",
              "          element.appendChild(docLink);\n",
              "        }\n",
              "      </script>\n",
              "    </div>\n",
              "  </div>\n",
              "  "
            ],
            "text/plain": [
              "   Aktual  Decision Tree  Random Forest  Logistic Regression  Naive Bayes\n",
              "0       0              0              0                    0            0\n",
              "1       0              1              0                    0            0\n",
              "2       1              1              1                    1            1\n",
              "3       1              1              1                    1            1\n",
              "4       1              1              1                    1            1"
            ]
          },
          "metadata": {},
          "execution_count": 40
        }
      ]
    },
    {
      "cell_type": "markdown",
      "source": [
        "## K-Nearest Neighbors"
      ],
      "metadata": {
        "id": "3_acTHimFuEZ"
      }
    },
    {
      "cell_type": "code",
      "source": [
        "from sklearn.neighbors import KNeighborsClassifier\n",
        "\n",
        "k = 5\n",
        "knnclass = KNeighborsClassifier(n_neighbors = k)\n",
        "knnclass.fit(x_train, y_train)"
      ],
      "metadata": {
        "id": "PACd6uEiFyKH",
        "outputId": "567a9dbb-774f-4d2b-f653-73ca339999b0",
        "colab": {
          "base_uri": "https://localhost:8080/"
        }
      },
      "execution_count": null,
      "outputs": [
        {
          "output_type": "execute_result",
          "data": {
            "text/plain": [
              "KNeighborsClassifier()"
            ]
          },
          "metadata": {},
          "execution_count": 41
        }
      ]
    },
    {
      "cell_type": "code",
      "source": [
        "# prediksi\n",
        "knn_pred = knnclass.predict(x_test)"
      ],
      "metadata": {
        "id": "VYkBHdSWOE1V"
      },
      "execution_count": null,
      "outputs": []
    },
    {
      "cell_type": "code",
      "source": [
        "#cek akurasi\n",
        "knnscore = metrics.accuracy_score(y_test , knn_pred)\n",
        "print('Model accuracy K-Nearest Neighbors : ' , knnscore)"
      ],
      "metadata": {
        "colab": {
          "base_uri": "https://localhost:8080/"
        },
        "id": "SA3pMZbROPUm",
        "outputId": "39199e49-bc74-4e26-836e-61482787ac9e"
      },
      "execution_count": null,
      "outputs": [
        {
          "output_type": "stream",
          "name": "stdout",
          "text": [
            "Model accuracy K-Nearest Neighbors :  0.6578947368421053\n"
          ]
        }
      ]
    },
    {
      "cell_type": "code",
      "source": [
        "cmknn = confusion_matrix(y_test, knn_pred)\n",
        "sns.heatmap(cmknn, annot=True)"
      ],
      "metadata": {
        "colab": {
          "base_uri": "https://localhost:8080/",
          "height": 285
        },
        "id": "1bfqq20bPEJU",
        "outputId": "60b3823b-09b6-4921-e278-b64fd35c9751"
      },
      "execution_count": null,
      "outputs": [
        {
          "output_type": "execute_result",
          "data": {
            "text/plain": [
              "<matplotlib.axes._subplots.AxesSubplot at 0x7fa576e41e50>"
            ]
          },
          "metadata": {},
          "execution_count": 44
        },
        {
          "output_type": "display_data",
          "data": {
            "image/png": "[encoded data removed]",
            "text/plain": [
              "<Figure size 432x288 with 2 Axes>"
            ]
          },
          "metadata": {}
        }
      ]
    },
    {
      "cell_type": "markdown",
      "source": [
        "Dari 76 data test, 29 data positif terprediksi positif, 12 data negatif terprediksi positif, 14 data negatif terprediksi positif, 21 data negatif terprediksi negatif"
      ],
      "metadata": {
        "id": "ytv-ifBwdrSp"
      }
    },
    {
      "cell_type": "code",
      "source": [
        "print(classification_report(y_test,knn_pred))"
      ],
      "metadata": {
        "colab": {
          "base_uri": "https://localhost:8080/"
        },
        "id": "AZ9_jMXKPNx1",
        "outputId": "b3079867-dbad-40a2-b578-71271aa74770"
      },
      "execution_count": null,
      "outputs": [
        {
          "output_type": "stream",
          "name": "stdout",
          "text": [
            "              precision    recall  f1-score   support\n",
            "\n",
            "           0       0.64      0.60      0.62        35\n",
            "           1       0.67      0.71      0.69        41\n",
            "\n",
            "    accuracy                           0.66        76\n",
            "   macro avg       0.66      0.65      0.65        76\n",
            "weighted avg       0.66      0.66      0.66        76\n",
            "\n"
          ]
        }
      ]
    },
    {
      "cell_type": "code",
      "source": [
        "hasil_prediksi['K-Nearest Neighbors'] = knn_pred.flatten()\n",
        "hasil_prediksi['K-Nearest Neighbors'] = hasil_prediksi['K-Nearest Neighbors'].round(0)\n",
        "hasil_prediksi.head()"
      ],
      "metadata": {
        "colab": {
          "base_uri": "https://localhost:8080/",
          "height": 206
        },
        "id": "CBBAXlL5PSND",
        "outputId": "8c329cd7-a7aa-40bc-fdb1-99f0743c7769"
      },
      "execution_count": null,
      "outputs": [
        {
          "output_type": "execute_result",
          "data": {
            "text/html": [
              "\n",
              "  <div id=\"df-38a2e54f-3075-4809-96c4-11335d2cf24b\">\n",
              "    <div class=\"colab-df-container\">\n",
              "      <div>\n",
              "<style scoped>\n",
              "    .dataframe tbody tr th:only-of-type {\n",
              "        vertical-align: middle;\n",
              "    }\n",
              "\n",
              "    .dataframe tbody tr th {\n",
              "        vertical-align: top;\n",
              "    }\n",
              "\n",
              "    .dataframe thead th {\n",
              "        text-align: right;\n",
              "    }\n",
              "</style>\n",
              "<table border=\"1\" class=\"dataframe\">\n",
              "  <thead>\n",
              "    <tr style=\"text-align: right;\">\n",
              "      <th></th>\n",
              "      <th>Aktual</th>\n",
              "      <th>Decision Tree</th>\n",
              "      <th>Random Forest</th>\n",
              "      <th>Logistic Regression</th>\n",
              "      <th>Naive Bayes</th>\n",
              "      <th>K-Nearest Neighbors</th>\n",
              "    </tr>\n",
              "  </thead>\n",
              "  <tbody>\n",
              "    <tr>\n",
              "      <th>0</th>\n",
              "      <td>0</td>\n",
              "      <td>0</td>\n",
              "      <td>0</td>\n",
              "      <td>0</td>\n",
              "      <td>0</td>\n",
              "      <td>0</td>\n",
              "    </tr>\n",
              "    <tr>\n",
              "      <th>1</th>\n",
              "      <td>0</td>\n",
              "      <td>1</td>\n",
              "      <td>0</td>\n",
              "      <td>0</td>\n",
              "      <td>0</td>\n",
              "      <td>0</td>\n",
              "    </tr>\n",
              "    <tr>\n",
              "      <th>2</th>\n",
              "      <td>1</td>\n",
              "      <td>1</td>\n",
              "      <td>1</td>\n",
              "      <td>1</td>\n",
              "      <td>1</td>\n",
              "      <td>0</td>\n",
              "    </tr>\n",
              "    <tr>\n",
              "      <th>3</th>\n",
              "      <td>1</td>\n",
              "      <td>1</td>\n",
              "      <td>1</td>\n",
              "      <td>1</td>\n",
              "      <td>1</td>\n",
              "      <td>1</td>\n",
              "    </tr>\n",
              "    <tr>\n",
              "      <th>4</th>\n",
              "      <td>1</td>\n",
              "      <td>1</td>\n",
              "      <td>1</td>\n",
              "      <td>1</td>\n",
              "      <td>1</td>\n",
              "      <td>1</td>\n",
              "    </tr>\n",
              "  </tbody>\n",
              "</table>\n",
              "</div>\n",
              "      <button class=\"colab-df-convert\" onclick=\"convertToInteractive('df-38a2e54f-3075-4809-96c4-11335d2cf24b')\"\n",
              "              title=\"Convert this dataframe to an interactive table.\"\n",
              "              style=\"display:none;\">\n",
              "        \n",
              "  <svg xmlns=\"http://www.w3.org/2000/svg\" height=\"24px\"viewBox=\"0 0 24 24\"\n",
              "       width=\"24px\">\n",
              "    <path d=\"M0 0h24v24H0V0z\" fill=\"none\"/>\n",
              "    <path d=\"M18.56 5.44l.94 2.06.94-2.06 2.06-.94-2.06-.94-.94-2.06-.94 2.06-2.06.94zm-11 1L8.5 8.5l.94-2.06 2.06-.94-2.06-.94L8.5 2.5l-.94 2.06-2.06.94zm10 10l.94 2.06.94-2.06 2.06-.94-2.06-.94-.94-2.06-.94 2.06-2.06.94z\"/><path d=\"M17.41 7.96l-1.37-1.37c-.4-.4-.92-.59-1.43-.59-.52 0-1.04.2-1.43.59L10.3 9.45l-7.72 7.72c-.78.78-.78 2.05 0 2.83L4 21.41c.39.39.9.59 1.41.59.51 0 1.02-.2 1.41-.59l7.78-7.78 2.81-2.81c.8-.78.8-2.07 0-2.86zM5.41 20L4 18.59l7.72-7.72 1.47 1.35L5.41 20z\"/>\n",
              "  </svg>\n",
              "      </button>\n",
              "      \n",
              "  <style>\n",
              "    .colab-df-container {\n",
              "      display:flex;\n",
              "      flex-wrap:wrap;\n",
              "      gap: 12px;\n",
              "    }\n",
              "\n",
              "    .colab-df-convert {\n",
              "      background-color: #E8F0FE;\n",
              "      border: none;\n",
              "      border-radius: 50%;\n",
              "      cursor: pointer;\n",
              "      display: none;\n",
              "      fill: #1967D2;\n",
              "      height: 32px;\n",
              "      padding: 0 0 0 0;\n",
              "      width: 32px;\n",
              "    }\n",
              "\n",
              "    .colab-df-convert:hover {\n",
              "      background-color: #E2EBFA;\n",
              "      box-shadow: 0px 1px 2px rgba(60, 64, 67, 0.3), 0px 1px 3px 1px rgba(60, 64, 67, 0.15);\n",
              "      fill: #174EA6;\n",
              "    }\n",
              "\n",
              "    [theme=dark] .colab-df-convert {\n",
              "      background-color: #3B4455;\n",
              "      fill: #D2E3FC;\n",
              "    }\n",
              "\n",
              "    [theme=dark] .colab-df-convert:hover {\n",
              "      background-color: #434B5C;\n",
              "      box-shadow: 0px 1px 3px 1px rgba(0, 0, 0, 0.15);\n",
              "      filter: drop-shadow(0px 1px 2px rgba(0, 0, 0, 0.3));\n",
              "      fill: #FFFFFF;\n",
              "    }\n",
              "  </style>\n",
              "\n",
              "      <script>\n",
              "        const buttonEl =\n",
              "          document.querySelector('#df-38a2e54f-3075-4809-96c4-11335d2cf24b button.colab-df-convert');\n",
              "        buttonEl.style.display =\n",
              "          google.colab.kernel.accessAllowed ? 'block' : 'none';\n",
              "\n",
              "        async function convertToInteractive(key) {\n",
              "          const element = document.querySelector('#df-38a2e54f-3075-4809-96c4-11335d2cf24b');\n",
              "          const dataTable =\n",
              "            await google.colab.kernel.invokeFunction('convertToInteractive',\n",
              "                                                     [key], {});\n",
              "          if (!dataTable) return;\n",
              "\n",
              "          const docLinkHtml = 'Like what you see? Visit the ' +\n",
              "            '<a target=\"_blank\" href=https://colab.research.google.com/notebooks/data_table.ipynb>data table notebook</a>'\n",
              "            + ' to learn more about interactive tables.';\n",
              "          element.innerHTML = '';\n",
              "          dataTable['output_type'] = 'display_data';\n",
              "          await google.colab.output.renderOutput(dataTable, element);\n",
              "          const docLink = document.createElement('div');\n",
              "          docLink.innerHTML = docLinkHtml;\n",
              "          element.appendChild(docLink);\n",
              "        }\n",
              "      </script>\n",
              "    </div>\n",
              "  </div>\n",
              "  "
            ],
            "text/plain": [
              "   Aktual  Decision Tree  ...  Naive Bayes  K-Nearest Neighbors\n",
              "0       0              0  ...            0                    0\n",
              "1       0              1  ...            0                    0\n",
              "2       1              1  ...            1                    0\n",
              "3       1              1  ...            1                    1\n",
              "4       1              1  ...            1                    1\n",
              "\n",
              "[5 rows x 6 columns]"
            ]
          },
          "metadata": {},
          "execution_count": 46
        }
      ]
    },
    {
      "cell_type": "markdown",
      "source": [
        "# Perbandingan dari tiap model"
      ],
      "metadata": {
        "id": "4U4BlW2wPgBb"
      }
    },
    {
      "cell_type": "code",
      "source": [
        "# perbandingan akurasi\n",
        "print('Model accuracy Decision Tree : ' , dtscore)\n",
        "print('Model Accuracy Random Forest:', rfscore)\n",
        "print('Model accuracy Logistic Regression : ' , lrscore)\n",
        "print('Model accuracy Naive Bayes : ' , nbscore)\n",
        "print('Model accuracy K-Nearest Neighbors : ' , knnscore)"
      ],
      "metadata": {
        "colab": {
          "base_uri": "https://localhost:8080/"
        },
        "id": "-yBawxhjiyN6",
        "outputId": "a3d96415-a68d-445e-dda1-c63aa3eb20c6"
      },
      "execution_count": null,
      "outputs": [
        {
          "output_type": "stream",
          "name": "stdout",
          "text": [
            "Model accuracy Decision Tree :  0.6973684210526315\n",
            "Model Accuracy Random Forest: 0.7631578947368421\n",
            "Model accuracy Logistic Regression :  0.7631578947368421\n",
            "Model accuracy Naive Bayes :  0.8026315789473685\n",
            "Model accuracy K-Nearest Neighbors :  0.6578947368421053\n"
          ]
        }
      ]
    },
    {
      "cell_type": "markdown",
      "source": [
        "Di atas terlihat bahwa model dengan tingkat akurasi tertinggi adalah model Naive Bayes. Selanjutnya kita akan memprediksi menggunakan model Naive Bayes dengan beberapa parameter yang akan diinput(age, sex, cp, trestbps, chol, fbs, restecg, thalach, exang, oldpeak, slope, ca, thal)"
      ],
      "metadata": {
        "id": "KoHSawN2QOhP"
      }
    },
    {
      "cell_type": "code",
      "source": [
        "age = input('Masukkan umur                            : ')\n",
        "sex = input('Jenis kelamin (laki-laki=1, perempuan=0) : ')\n",
        "cp = input('Chest pain type (0-3)                    : ')\n",
        "trestbps = input('Resting blood pressure                   : ')\n",
        "chol = input('Serum cholestoral                        : ')\n",
        "fbs = input('Fasting blood sugar                      : ')\n",
        "restecg = input('Resting electrocardiographic results     : ')\n",
        "thalach = input('Maximum heart rate achieved              : ')\n",
        "exang = input('Exercise induced angina                  : ')\n",
        "oldpeak = input('ST depression induced by exercise relative to rest: ')\n",
        "slope = input('Slope of the peak exercise ST segment    : ')\n",
        "ca = input('Number of major vessels                  : ')\n",
        "thal = input('Thal                                     : ')\n",
        "\n",
        "pred = nbc.predict([[age,sex,cp,trestbps,chol,fbs,restecg,thalach,exang,oldpeak,slope,ca,thal]])\n",
        "\n",
        "if pred==1:\n",
        "  print('\\n Anda terprediksi berpenyakit jantung\\n')\n",
        "else:\n",
        "  print('\\n Anda terprediksi tidak berpenyakit jantung\\n')"
      ],
      "metadata": {
        "colab": {
          "base_uri": "https://localhost:8080/"
        },
        "id": "uLQ7H3z7Q6ft",
        "outputId": "7e961613-c48d-4031-d64d-cdc9ab4a0c2f"
      },
      "execution_count": null,
      "outputs": [
        {
          "output_type": "stream",
          "name": "stdout",
          "text": [
            "Masukkan umur                            : 25\n",
            "Jenis kelamin (laki-laki=1, perempuan=0) : 0\n",
            "Chest pain type (0-3)                    : 0\n",
            "Resting blood pressure                   : 180\n",
            "Serum cholestoral                        : 300\n",
            "Fasting blood sugar                      : 0\n",
            "Resting electrocardiographic results     : 0\n",
            "Maximum heart rate achieved              : 180\n",
            "Exercise induced angina                  : 0\n",
            "ST depression induced by exercise relative to rest: 3\n",
            "Slope of the peak exercise ST segment    : 0\n",
            "Number of major vessels                  : 0\n",
            "Thal                                     : 1\n",
            "\n",
            " Anda terprediksi tidak berpenyakit jantung\n",
            "\n"
          ]
        },
        {
          "output_type": "stream",
          "name": "stderr",
          "text": [
            "/usr/local/lib/python3.7/dist-packages/sklearn/base.py:451: UserWarning: X does not have valid feature names, but GaussianNB was fitted with feature names\n",
            "  \"X does not have valid feature names, but\"\n",
            "/usr/local/lib/python3.7/dist-packages/sklearn/base.py:566: FutureWarning: Arrays of bytes/strings is being converted to decimal numbers if dtype='numeric'. This behavior is deprecated in 0.24 and will be removed in 1.1 (renaming of 0.26). Please convert your data to numeric values explicitly instead.\n",
            "  X = check_array(X, **check_params)\n"
          ]
        }
      ]
    }
  ],
  "metadata": {
    "colab": {
      "name": "klasifikasi_heartdesease.ipynb",
      "provenance": [],
      "collapsed_sections": [],
      "authorship_tag": "ABX9TyNK2Lm+1vaP9bKesQQtVXlD",
      "include_colab_link": true
    },
    "kernelspec": {
      "display_name": "Python 3",
      "name": "python3"
    },
    "language_info": {
      "name": "python"
    }
  },
  "nbformat": 4,
  "nbformat_minor": 0
}