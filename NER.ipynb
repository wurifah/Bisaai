{
  "nbformat": 4,
  "nbformat_minor": 0,
  "metadata": {
    "colab": {
      "name": "NER.ipynb",
      "provenance": [],
      "collapsed_sections": [],
      "authorship_tag": "ABX9TyMnN7x+WlAUxfOhEFX3ykqg",
      "include_colab_link": true
    },
    "kernelspec": {
      "name": "python3",
      "display_name": "Python 3"
    },
    "language_info": {
      "name": "python"
    }
  },
  "cells": [
    {
      "cell_type": "markdown",
      "metadata": {
        "id": "view-in-github",
        "colab_type": "text"
      },
      "source": [
        "<a href=\"https://colab.research.google.com/github/wurifah/Bisaai/blob/main/NER.ipynb\" target=\"_parent\"><img src=\"https://colab.research.google.com/assets/colab-badge.svg\" alt=\"Open In Colab\"/></a>"
      ]
    },
    {
      "cell_type": "code",
      "source": [
        "import pandas as pd"
      ],
      "metadata": {
        "id": "GWdjwaHH7Zl8"
      },
      "execution_count": 1,
      "outputs": []
    },
    {
      "cell_type": "code",
      "execution_count": 2,
      "metadata": {
        "colab": {
          "base_uri": "https://localhost:8080/",
          "height": 362
        },
        "id": "zVLJsUcvPuTf",
        "outputId": "38fc3cfc-bff3-4bed-82f6-cb7d8ef01833"
      },
      "outputs": [
        {
          "output_type": "execute_result",
          "data": {
            "text/plain": [
              "                     transaction_descriptor store_number dataset\n",
              "0            DOLRTREE 2257 00022574 ROSWELL         2257   train\n",
              "1                            AUTOZONE #3547         3547   train\n",
              "2                     TGI FRIDAYS 1485 0000         1485   train\n",
              "3                    BUFFALO WILD WINGS 003            3   train\n",
              "4                            J. CREW #568 0          568   train\n",
              "5  KRISPY KREME 0040        GREENVILLE   SC           40   train\n",
              "6  FIVE GUYS MN 1847 ECOM   612-339-9733 MN         1847   train\n",
              "7                     CASEYS GEN STORE 2650         2650   train\n",
              "8                          HUDDLE HOUSE 535          535   train\n",
              "9                         JAMBA JUICE #1305         1305   train"
            ],
            "text/html": [
              "\n",
              "  <div id=\"df-431884a8-eb4b-4cd1-8366-05db6ced68d9\">\n",
              "    <div class=\"colab-df-container\">\n",
              "      <div>\n",
              "<style scoped>\n",
              "    .dataframe tbody tr th:only-of-type {\n",
              "        vertical-align: middle;\n",
              "    }\n",
              "\n",
              "    .dataframe tbody tr th {\n",
              "        vertical-align: top;\n",
              "    }\n",
              "\n",
              "    .dataframe thead th {\n",
              "        text-align: right;\n",
              "    }\n",
              "</style>\n",
              "<table border=\"1\" class=\"dataframe\">\n",
              "  <thead>\n",
              "    <tr style=\"text-align: right;\">\n",
              "      <th></th>\n",
              "      <th>transaction_descriptor</th>\n",
              "      <th>store_number</th>\n",
              "      <th>dataset</th>\n",
              "    </tr>\n",
              "  </thead>\n",
              "  <tbody>\n",
              "    <tr>\n",
              "      <th>0</th>\n",
              "      <td>DOLRTREE 2257 00022574 ROSWELL</td>\n",
              "      <td>2257</td>\n",
              "      <td>train</td>\n",
              "    </tr>\n",
              "    <tr>\n",
              "      <th>1</th>\n",
              "      <td>AUTOZONE #3547</td>\n",
              "      <td>3547</td>\n",
              "      <td>train</td>\n",
              "    </tr>\n",
              "    <tr>\n",
              "      <th>2</th>\n",
              "      <td>TGI FRIDAYS 1485 0000</td>\n",
              "      <td>1485</td>\n",
              "      <td>train</td>\n",
              "    </tr>\n",
              "    <tr>\n",
              "      <th>3</th>\n",
              "      <td>BUFFALO WILD WINGS 003</td>\n",
              "      <td>3</td>\n",
              "      <td>train</td>\n",
              "    </tr>\n",
              "    <tr>\n",
              "      <th>4</th>\n",
              "      <td>J. CREW #568 0</td>\n",
              "      <td>568</td>\n",
              "      <td>train</td>\n",
              "    </tr>\n",
              "    <tr>\n",
              "      <th>5</th>\n",
              "      <td>KRISPY KREME 0040        GREENVILLE   SC</td>\n",
              "      <td>40</td>\n",
              "      <td>train</td>\n",
              "    </tr>\n",
              "    <tr>\n",
              "      <th>6</th>\n",
              "      <td>FIVE GUYS MN 1847 ECOM   612-339-9733 MN</td>\n",
              "      <td>1847</td>\n",
              "      <td>train</td>\n",
              "    </tr>\n",
              "    <tr>\n",
              "      <th>7</th>\n",
              "      <td>CASEYS GEN STORE 2650</td>\n",
              "      <td>2650</td>\n",
              "      <td>train</td>\n",
              "    </tr>\n",
              "    <tr>\n",
              "      <th>8</th>\n",
              "      <td>HUDDLE HOUSE 535</td>\n",
              "      <td>535</td>\n",
              "      <td>train</td>\n",
              "    </tr>\n",
              "    <tr>\n",
              "      <th>9</th>\n",
              "      <td>JAMBA JUICE #1305</td>\n",
              "      <td>1305</td>\n",
              "      <td>train</td>\n",
              "    </tr>\n",
              "  </tbody>\n",
              "</table>\n",
              "</div>\n",
              "      <button class=\"colab-df-convert\" onclick=\"convertToInteractive('df-431884a8-eb4b-4cd1-8366-05db6ced68d9')\"\n",
              "              title=\"Convert this dataframe to an interactive table.\"\n",
              "              style=\"display:none;\">\n",
              "        \n",
              "  <svg xmlns=\"http://www.w3.org/2000/svg\" height=\"24px\"viewBox=\"0 0 24 24\"\n",
              "       width=\"24px\">\n",
              "    <path d=\"M0 0h24v24H0V0z\" fill=\"none\"/>\n",
              "    <path d=\"M18.56 5.44l.94 2.06.94-2.06 2.06-.94-2.06-.94-.94-2.06-.94 2.06-2.06.94zm-11 1L8.5 8.5l.94-2.06 2.06-.94-2.06-.94L8.5 2.5l-.94 2.06-2.06.94zm10 10l.94 2.06.94-2.06 2.06-.94-2.06-.94-.94-2.06-.94 2.06-2.06.94z\"/><path d=\"M17.41 7.96l-1.37-1.37c-.4-.4-.92-.59-1.43-.59-.52 0-1.04.2-1.43.59L10.3 9.45l-7.72 7.72c-.78.78-.78 2.05 0 2.83L4 21.41c.39.39.9.59 1.41.59.51 0 1.02-.2 1.41-.59l7.78-7.78 2.81-2.81c.8-.78.8-2.07 0-2.86zM5.41 20L4 18.59l7.72-7.72 1.47 1.35L5.41 20z\"/>\n",
              "  </svg>\n",
              "      </button>\n",
              "      \n",
              "  <style>\n",
              "    .colab-df-container {\n",
              "      display:flex;\n",
              "      flex-wrap:wrap;\n",
              "      gap: 12px;\n",
              "    }\n",
              "\n",
              "    .colab-df-convert {\n",
              "      background-color: #E8F0FE;\n",
              "      border: none;\n",
              "      border-radius: 50%;\n",
              "      cursor: pointer;\n",
              "      display: none;\n",
              "      fill: #1967D2;\n",
              "      height: 32px;\n",
              "      padding: 0 0 0 0;\n",
              "      width: 32px;\n",
              "    }\n",
              "\n",
              "    .colab-df-convert:hover {\n",
              "      background-color: #E2EBFA;\n",
              "      box-shadow: 0px 1px 2px rgba(60, 64, 67, 0.3), 0px 1px 3px 1px rgba(60, 64, 67, 0.15);\n",
              "      fill: #174EA6;\n",
              "    }\n",
              "\n",
              "    [theme=dark] .colab-df-convert {\n",
              "      background-color: #3B4455;\n",
              "      fill: #D2E3FC;\n",
              "    }\n",
              "\n",
              "    [theme=dark] .colab-df-convert:hover {\n",
              "      background-color: #434B5C;\n",
              "      box-shadow: 0px 1px 3px 1px rgba(0, 0, 0, 0.15);\n",
              "      filter: drop-shadow(0px 1px 2px rgba(0, 0, 0, 0.3));\n",
              "      fill: #FFFFFF;\n",
              "    }\n",
              "  </style>\n",
              "\n",
              "      <script>\n",
              "        const buttonEl =\n",
              "          document.querySelector('#df-431884a8-eb4b-4cd1-8366-05db6ced68d9 button.colab-df-convert');\n",
              "        buttonEl.style.display =\n",
              "          google.colab.kernel.accessAllowed ? 'block' : 'none';\n",
              "\n",
              "        async function convertToInteractive(key) {\n",
              "          const element = document.querySelector('#df-431884a8-eb4b-4cd1-8366-05db6ced68d9');\n",
              "          const dataTable =\n",
              "            await google.colab.kernel.invokeFunction('convertToInteractive',\n",
              "                                                     [key], {});\n",
              "          if (!dataTable) return;\n",
              "\n",
              "          const docLinkHtml = 'Like what you see? Visit the ' +\n",
              "            '<a target=\"_blank\" href=https://colab.research.google.com/notebooks/data_table.ipynb>data table notebook</a>'\n",
              "            + ' to learn more about interactive tables.';\n",
              "          element.innerHTML = '';\n",
              "          dataTable['output_type'] = 'display_data';\n",
              "          await google.colab.output.renderOutput(dataTable, element);\n",
              "          const docLink = document.createElement('div');\n",
              "          docLink.innerHTML = docLinkHtml;\n",
              "          element.appendChild(docLink);\n",
              "        }\n",
              "      </script>\n",
              "    </div>\n",
              "  </div>\n",
              "  "
            ]
          },
          "metadata": {},
          "execution_count": 2
        }
      ],
      "source": [
        "df = pd.read_csv('NamedEntityRecognition.csv')\n",
        "df.head(10)"
      ]
    },
    {
      "cell_type": "code",
      "source": [
        "train = df[(df['dataset']=='train')|(df['dataset']=='validation')]\n",
        "train"
      ],
      "metadata": {
        "colab": {
          "base_uri": "https://localhost:8080/",
          "height": 424
        },
        "id": "m3LX0ufl7fk-",
        "outputId": "7e2268c5-8467-42ca-88b1-40ede3566735"
      },
      "execution_count": 3,
      "outputs": [
        {
          "output_type": "execute_result",
          "data": {
            "text/plain": [
              "             transaction_descriptor store_number     dataset\n",
              "0    DOLRTREE 2257 00022574 ROSWELL         2257       train\n",
              "1                    AUTOZONE #3547         3547       train\n",
              "2             TGI FRIDAYS 1485 0000         1485       train\n",
              "3            BUFFALO WILD WINGS 003            3       train\n",
              "4                    J. CREW #568 0          568       train\n",
              "..                              ...          ...         ...\n",
              "195                 ROSS STORES #15           15  validation\n",
              "196               SPRINT STORE #346          346  validation\n",
              "197          SPEEDWAY 07134 4343 OL         7134  validation\n",
              "198            THE HOME DEPOT #8550         8550  validation\n",
              "199                    OUTBACK 0315          315  validation\n",
              "\n",
              "[200 rows x 3 columns]"
            ],
            "text/html": [
              "\n",
              "  <div id=\"df-fab59085-1725-44c4-859a-f8dcd3e01419\">\n",
              "    <div class=\"colab-df-container\">\n",
              "      <div>\n",
              "<style scoped>\n",
              "    .dataframe tbody tr th:only-of-type {\n",
              "        vertical-align: middle;\n",
              "    }\n",
              "\n",
              "    .dataframe tbody tr th {\n",
              "        vertical-align: top;\n",
              "    }\n",
              "\n",
              "    .dataframe thead th {\n",
              "        text-align: right;\n",
              "    }\n",
              "</style>\n",
              "<table border=\"1\" class=\"dataframe\">\n",
              "  <thead>\n",
              "    <tr style=\"text-align: right;\">\n",
              "      <th></th>\n",
              "      <th>transaction_descriptor</th>\n",
              "      <th>store_number</th>\n",
              "      <th>dataset</th>\n",
              "    </tr>\n",
              "  </thead>\n",
              "  <tbody>\n",
              "    <tr>\n",
              "      <th>0</th>\n",
              "      <td>DOLRTREE 2257 00022574 ROSWELL</td>\n",
              "      <td>2257</td>\n",
              "      <td>train</td>\n",
              "    </tr>\n",
              "    <tr>\n",
              "      <th>1</th>\n",
              "      <td>AUTOZONE #3547</td>\n",
              "      <td>3547</td>\n",
              "      <td>train</td>\n",
              "    </tr>\n",
              "    <tr>\n",
              "      <th>2</th>\n",
              "      <td>TGI FRIDAYS 1485 0000</td>\n",
              "      <td>1485</td>\n",
              "      <td>train</td>\n",
              "    </tr>\n",
              "    <tr>\n",
              "      <th>3</th>\n",
              "      <td>BUFFALO WILD WINGS 003</td>\n",
              "      <td>3</td>\n",
              "      <td>train</td>\n",
              "    </tr>\n",
              "    <tr>\n",
              "      <th>4</th>\n",
              "      <td>J. CREW #568 0</td>\n",
              "      <td>568</td>\n",
              "      <td>train</td>\n",
              "    </tr>\n",
              "    <tr>\n",
              "      <th>...</th>\n",
              "      <td>...</td>\n",
              "      <td>...</td>\n",
              "      <td>...</td>\n",
              "    </tr>\n",
              "    <tr>\n",
              "      <th>195</th>\n",
              "      <td>ROSS STORES #15</td>\n",
              "      <td>15</td>\n",
              "      <td>validation</td>\n",
              "    </tr>\n",
              "    <tr>\n",
              "      <th>196</th>\n",
              "      <td>SPRINT STORE #346</td>\n",
              "      <td>346</td>\n",
              "      <td>validation</td>\n",
              "    </tr>\n",
              "    <tr>\n",
              "      <th>197</th>\n",
              "      <td>SPEEDWAY 07134 4343 OL</td>\n",
              "      <td>7134</td>\n",
              "      <td>validation</td>\n",
              "    </tr>\n",
              "    <tr>\n",
              "      <th>198</th>\n",
              "      <td>THE HOME DEPOT #8550</td>\n",
              "      <td>8550</td>\n",
              "      <td>validation</td>\n",
              "    </tr>\n",
              "    <tr>\n",
              "      <th>199</th>\n",
              "      <td>OUTBACK 0315</td>\n",
              "      <td>315</td>\n",
              "      <td>validation</td>\n",
              "    </tr>\n",
              "  </tbody>\n",
              "</table>\n",
              "<p>200 rows × 3 columns</p>\n",
              "</div>\n",
              "      <button class=\"colab-df-convert\" onclick=\"convertToInteractive('df-fab59085-1725-44c4-859a-f8dcd3e01419')\"\n",
              "              title=\"Convert this dataframe to an interactive table.\"\n",
              "              style=\"display:none;\">\n",
              "        \n",
              "  <svg xmlns=\"http://www.w3.org/2000/svg\" height=\"24px\"viewBox=\"0 0 24 24\"\n",
              "       width=\"24px\">\n",
              "    <path d=\"M0 0h24v24H0V0z\" fill=\"none\"/>\n",
              "    <path d=\"M18.56 5.44l.94 2.06.94-2.06 2.06-.94-2.06-.94-.94-2.06-.94 2.06-2.06.94zm-11 1L8.5 8.5l.94-2.06 2.06-.94-2.06-.94L8.5 2.5l-.94 2.06-2.06.94zm10 10l.94 2.06.94-2.06 2.06-.94-2.06-.94-.94-2.06-.94 2.06-2.06.94z\"/><path d=\"M17.41 7.96l-1.37-1.37c-.4-.4-.92-.59-1.43-.59-.52 0-1.04.2-1.43.59L10.3 9.45l-7.72 7.72c-.78.78-.78 2.05 0 2.83L4 21.41c.39.39.9.59 1.41.59.51 0 1.02-.2 1.41-.59l7.78-7.78 2.81-2.81c.8-.78.8-2.07 0-2.86zM5.41 20L4 18.59l7.72-7.72 1.47 1.35L5.41 20z\"/>\n",
              "  </svg>\n",
              "      </button>\n",
              "      \n",
              "  <style>\n",
              "    .colab-df-container {\n",
              "      display:flex;\n",
              "      flex-wrap:wrap;\n",
              "      gap: 12px;\n",
              "    }\n",
              "\n",
              "    .colab-df-convert {\n",
              "      background-color: #E8F0FE;\n",
              "      border: none;\n",
              "      border-radius: 50%;\n",
              "      cursor: pointer;\n",
              "      display: none;\n",
              "      fill: #1967D2;\n",
              "      height: 32px;\n",
              "      padding: 0 0 0 0;\n",
              "      width: 32px;\n",
              "    }\n",
              "\n",
              "    .colab-df-convert:hover {\n",
              "      background-color: #E2EBFA;\n",
              "      box-shadow: 0px 1px 2px rgba(60, 64, 67, 0.3), 0px 1px 3px 1px rgba(60, 64, 67, 0.15);\n",
              "      fill: #174EA6;\n",
              "    }\n",
              "\n",
              "    [theme=dark] .colab-df-convert {\n",
              "      background-color: #3B4455;\n",
              "      fill: #D2E3FC;\n",
              "    }\n",
              "\n",
              "    [theme=dark] .colab-df-convert:hover {\n",
              "      background-color: #434B5C;\n",
              "      box-shadow: 0px 1px 3px 1px rgba(0, 0, 0, 0.15);\n",
              "      filter: drop-shadow(0px 1px 2px rgba(0, 0, 0, 0.3));\n",
              "      fill: #FFFFFF;\n",
              "    }\n",
              "  </style>\n",
              "\n",
              "      <script>\n",
              "        const buttonEl =\n",
              "          document.querySelector('#df-fab59085-1725-44c4-859a-f8dcd3e01419 button.colab-df-convert');\n",
              "        buttonEl.style.display =\n",
              "          google.colab.kernel.accessAllowed ? 'block' : 'none';\n",
              "\n",
              "        async function convertToInteractive(key) {\n",
              "          const element = document.querySelector('#df-fab59085-1725-44c4-859a-f8dcd3e01419');\n",
              "          const dataTable =\n",
              "            await google.colab.kernel.invokeFunction('convertToInteractive',\n",
              "                                                     [key], {});\n",
              "          if (!dataTable) return;\n",
              "\n",
              "          const docLinkHtml = 'Like what you see? Visit the ' +\n",
              "            '<a target=\"_blank\" href=https://colab.research.google.com/notebooks/data_table.ipynb>data table notebook</a>'\n",
              "            + ' to learn more about interactive tables.';\n",
              "          element.innerHTML = '';\n",
              "          dataTable['output_type'] = 'display_data';\n",
              "          await google.colab.output.renderOutput(dataTable, element);\n",
              "          const docLink = document.createElement('div');\n",
              "          docLink.innerHTML = docLinkHtml;\n",
              "          element.appendChild(docLink);\n",
              "        }\n",
              "      </script>\n",
              "    </div>\n",
              "  </div>\n",
              "  "
            ]
          },
          "metadata": {},
          "execution_count": 3
        }
      ]
    },
    {
      "cell_type": "code",
      "source": [
        "test = df.loc[df['dataset'] =='test']\n",
        "test"
      ],
      "metadata": {
        "colab": {
          "base_uri": "https://localhost:8080/",
          "height": 424
        },
        "id": "Kow6fJ7rJXsH",
        "outputId": "1a9e6ea7-073a-434e-c091-41a52442e968"
      },
      "execution_count": 4,
      "outputs": [
        {
          "output_type": "execute_result",
          "data": {
            "text/plain": [
              "        transaction_descriptor store_number dataset\n",
              "200       IN-N-OUT BURGER #242          242    test\n",
              "201   BP#9442088LIBERTYVILLE B      9442088    test\n",
              "202              JCPENNEY 1419         1419    test\n",
              "203          ROSS STORES #1019         1019    test\n",
              "204         WM SUPERCENTER #38           38    test\n",
              "..                         ...          ...     ...\n",
              "295           MCDONALD'S F2151        F2151    test\n",
              "296  NST BEST BUY #1403 332411         1403    test\n",
              "297        CVS/PHARMACY #06689         6689    test\n",
              "298      BANANA REPUBLIC #8109         8109    test\n",
              "299         BOSTON MARKET 0443          443    test\n",
              "\n",
              "[100 rows x 3 columns]"
            ],
            "text/html": [
              "\n",
              "  <div id=\"df-8d13fbba-d650-4c32-b3f4-9e696b9db0a0\">\n",
              "    <div class=\"colab-df-container\">\n",
              "      <div>\n",
              "<style scoped>\n",
              "    .dataframe tbody tr th:only-of-type {\n",
              "        vertical-align: middle;\n",
              "    }\n",
              "\n",
              "    .dataframe tbody tr th {\n",
              "        vertical-align: top;\n",
              "    }\n",
              "\n",
              "    .dataframe thead th {\n",
              "        text-align: right;\n",
              "    }\n",
              "</style>\n",
              "<table border=\"1\" class=\"dataframe\">\n",
              "  <thead>\n",
              "    <tr style=\"text-align: right;\">\n",
              "      <th></th>\n",
              "      <th>transaction_descriptor</th>\n",
              "      <th>store_number</th>\n",
              "      <th>dataset</th>\n",
              "    </tr>\n",
              "  </thead>\n",
              "  <tbody>\n",
              "    <tr>\n",
              "      <th>200</th>\n",
              "      <td>IN-N-OUT BURGER #242</td>\n",
              "      <td>242</td>\n",
              "      <td>test</td>\n",
              "    </tr>\n",
              "    <tr>\n",
              "      <th>201</th>\n",
              "      <td>BP#9442088LIBERTYVILLE B</td>\n",
              "      <td>9442088</td>\n",
              "      <td>test</td>\n",
              "    </tr>\n",
              "    <tr>\n",
              "      <th>202</th>\n",
              "      <td>JCPENNEY 1419</td>\n",
              "      <td>1419</td>\n",
              "      <td>test</td>\n",
              "    </tr>\n",
              "    <tr>\n",
              "      <th>203</th>\n",
              "      <td>ROSS STORES #1019</td>\n",
              "      <td>1019</td>\n",
              "      <td>test</td>\n",
              "    </tr>\n",
              "    <tr>\n",
              "      <th>204</th>\n",
              "      <td>WM SUPERCENTER #38</td>\n",
              "      <td>38</td>\n",
              "      <td>test</td>\n",
              "    </tr>\n",
              "    <tr>\n",
              "      <th>...</th>\n",
              "      <td>...</td>\n",
              "      <td>...</td>\n",
              "      <td>...</td>\n",
              "    </tr>\n",
              "    <tr>\n",
              "      <th>295</th>\n",
              "      <td>MCDONALD'S F2151</td>\n",
              "      <td>F2151</td>\n",
              "      <td>test</td>\n",
              "    </tr>\n",
              "    <tr>\n",
              "      <th>296</th>\n",
              "      <td>NST BEST BUY #1403 332411</td>\n",
              "      <td>1403</td>\n",
              "      <td>test</td>\n",
              "    </tr>\n",
              "    <tr>\n",
              "      <th>297</th>\n",
              "      <td>CVS/PHARMACY #06689</td>\n",
              "      <td>6689</td>\n",
              "      <td>test</td>\n",
              "    </tr>\n",
              "    <tr>\n",
              "      <th>298</th>\n",
              "      <td>BANANA REPUBLIC #8109</td>\n",
              "      <td>8109</td>\n",
              "      <td>test</td>\n",
              "    </tr>\n",
              "    <tr>\n",
              "      <th>299</th>\n",
              "      <td>BOSTON MARKET 0443</td>\n",
              "      <td>443</td>\n",
              "      <td>test</td>\n",
              "    </tr>\n",
              "  </tbody>\n",
              "</table>\n",
              "<p>100 rows × 3 columns</p>\n",
              "</div>\n",
              "      <button class=\"colab-df-convert\" onclick=\"convertToInteractive('df-8d13fbba-d650-4c32-b3f4-9e696b9db0a0')\"\n",
              "              title=\"Convert this dataframe to an interactive table.\"\n",
              "              style=\"display:none;\">\n",
              "        \n",
              "  <svg xmlns=\"http://www.w3.org/2000/svg\" height=\"24px\"viewBox=\"0 0 24 24\"\n",
              "       width=\"24px\">\n",
              "    <path d=\"M0 0h24v24H0V0z\" fill=\"none\"/>\n",
              "    <path d=\"M18.56 5.44l.94 2.06.94-2.06 2.06-.94-2.06-.94-.94-2.06-.94 2.06-2.06.94zm-11 1L8.5 8.5l.94-2.06 2.06-.94-2.06-.94L8.5 2.5l-.94 2.06-2.06.94zm10 10l.94 2.06.94-2.06 2.06-.94-2.06-.94-.94-2.06-.94 2.06-2.06.94z\"/><path d=\"M17.41 7.96l-1.37-1.37c-.4-.4-.92-.59-1.43-.59-.52 0-1.04.2-1.43.59L10.3 9.45l-7.72 7.72c-.78.78-.78 2.05 0 2.83L4 21.41c.39.39.9.59 1.41.59.51 0 1.02-.2 1.41-.59l7.78-7.78 2.81-2.81c.8-.78.8-2.07 0-2.86zM5.41 20L4 18.59l7.72-7.72 1.47 1.35L5.41 20z\"/>\n",
              "  </svg>\n",
              "      </button>\n",
              "      \n",
              "  <style>\n",
              "    .colab-df-container {\n",
              "      display:flex;\n",
              "      flex-wrap:wrap;\n",
              "      gap: 12px;\n",
              "    }\n",
              "\n",
              "    .colab-df-convert {\n",
              "      background-color: #E8F0FE;\n",
              "      border: none;\n",
              "      border-radius: 50%;\n",
              "      cursor: pointer;\n",
              "      display: none;\n",
              "      fill: #1967D2;\n",
              "      height: 32px;\n",
              "      padding: 0 0 0 0;\n",
              "      width: 32px;\n",
              "    }\n",
              "\n",
              "    .colab-df-convert:hover {\n",
              "      background-color: #E2EBFA;\n",
              "      box-shadow: 0px 1px 2px rgba(60, 64, 67, 0.3), 0px 1px 3px 1px rgba(60, 64, 67, 0.15);\n",
              "      fill: #174EA6;\n",
              "    }\n",
              "\n",
              "    [theme=dark] .colab-df-convert {\n",
              "      background-color: #3B4455;\n",
              "      fill: #D2E3FC;\n",
              "    }\n",
              "\n",
              "    [theme=dark] .colab-df-convert:hover {\n",
              "      background-color: #434B5C;\n",
              "      box-shadow: 0px 1px 3px 1px rgba(0, 0, 0, 0.15);\n",
              "      filter: drop-shadow(0px 1px 2px rgba(0, 0, 0, 0.3));\n",
              "      fill: #FFFFFF;\n",
              "    }\n",
              "  </style>\n",
              "\n",
              "      <script>\n",
              "        const buttonEl =\n",
              "          document.querySelector('#df-8d13fbba-d650-4c32-b3f4-9e696b9db0a0 button.colab-df-convert');\n",
              "        buttonEl.style.display =\n",
              "          google.colab.kernel.accessAllowed ? 'block' : 'none';\n",
              "\n",
              "        async function convertToInteractive(key) {\n",
              "          const element = document.querySelector('#df-8d13fbba-d650-4c32-b3f4-9e696b9db0a0');\n",
              "          const dataTable =\n",
              "            await google.colab.kernel.invokeFunction('convertToInteractive',\n",
              "                                                     [key], {});\n",
              "          if (!dataTable) return;\n",
              "\n",
              "          const docLinkHtml = 'Like what you see? Visit the ' +\n",
              "            '<a target=\"_blank\" href=https://colab.research.google.com/notebooks/data_table.ipynb>data table notebook</a>'\n",
              "            + ' to learn more about interactive tables.';\n",
              "          element.innerHTML = '';\n",
              "          dataTable['output_type'] = 'display_data';\n",
              "          await google.colab.output.renderOutput(dataTable, element);\n",
              "          const docLink = document.createElement('div');\n",
              "          docLink.innerHTML = docLinkHtml;\n",
              "          element.appendChild(docLink);\n",
              "        }\n",
              "      </script>\n",
              "    </div>\n",
              "  </div>\n",
              "  "
            ]
          },
          "metadata": {},
          "execution_count": 4
        }
      ]
    },
    {
      "cell_type": "code",
      "source": [
        "teks = train.transaction_descriptor.tolist()\n",
        "number = train.store_number.tolist()"
      ],
      "metadata": {
        "id": "Ht2s3fL8_XGn"
      },
      "execution_count": 5,
      "outputs": []
    },
    {
      "cell_type": "code",
      "source": [
        "import re"
      ],
      "metadata": {
        "id": "lPZrXN_4-vIx"
      },
      "execution_count": 6,
      "outputs": []
    },
    {
      "cell_type": "code",
      "source": [
        "def find_matches(text,number):\n",
        "    match = re.search(str(number),text)\n",
        "    start = match.start()\n",
        "    end = match.end()\n",
        "    return(start, end)\n",
        "\n",
        "find_matches(str(teks), str(number))"
      ],
      "metadata": {
        "colab": {
          "base_uri": "https://localhost:8080/"
        },
        "id": "DNj2OabL-CxG",
        "outputId": "e7426501-5fc5-4e78-d084-38001d83e5d5"
      },
      "execution_count": 7,
      "outputs": [
        {
          "output_type": "execute_result",
          "data": {
            "text/plain": [
              "(1, 2)"
            ]
          },
          "metadata": {},
          "execution_count": 7
        }
      ]
    },
    {
      "cell_type": "code",
      "source": [
        "train_data = []\n",
        "\n",
        "for item in train.values:\n",
        "    start, end = find_matches(item[0],item[1])\n",
        "    train_item = (item[0],{\n",
        "          'entities':[(start, end, 'NUMBER')]\n",
        "    })\n",
        "\n",
        "    train_data.append(train_item)\n",
        "\n",
        "train_data"
      ],
      "metadata": {
        "id": "Kuxh6i57Crey",
        "colab": {
          "base_uri": "https://localhost:8080/"
        },
        "outputId": "3c176f9b-d572-4343-efb8-7837f48cf744"
      },
      "execution_count": 8,
      "outputs": [
        {
          "output_type": "execute_result",
          "data": {
            "text/plain": [
              "[('DOLRTREE 2257 00022574 ROSWELL', {'entities': [(9, 13, 'NUMBER')]}),\n",
              " ('AUTOZONE #3547', {'entities': [(10, 14, 'NUMBER')]}),\n",
              " ('TGI FRIDAYS 1485 0000', {'entities': [(12, 16, 'NUMBER')]}),\n",
              " ('BUFFALO WILD WINGS 003', {'entities': [(21, 22, 'NUMBER')]}),\n",
              " ('J. CREW #568 0', {'entities': [(9, 12, 'NUMBER')]}),\n",
              " ('KRISPY KREME 0040        GREENVILLE   SC',\n",
              "  {'entities': [(15, 17, 'NUMBER')]}),\n",
              " ('FIVE GUYS MN 1847 ECOM   612-339-9733 MN',\n",
              "  {'entities': [(13, 17, 'NUMBER')]}),\n",
              " ('CASEYS GEN STORE 2650', {'entities': [(17, 21, 'NUMBER')]}),\n",
              " ('HUDDLE HOUSE 535', {'entities': [(13, 16, 'NUMBER')]}),\n",
              " ('JAMBA JUICE #1305', {'entities': [(13, 17, 'NUMBER')]}),\n",
              " ('ANN TAYLOR FACTORY #2202', {'entities': [(20, 24, 'NUMBER')]}),\n",
              " ('Subway 26824', {'entities': [(7, 12, 'NUMBER')]}),\n",
              " ('MARSHALLS #0688', {'entities': [(12, 15, 'NUMBER')]}),\n",
              " ('OREILLY AUTO #4681', {'entities': [(14, 18, 'NUMBER')]}),\n",
              " ('TA #227 BARSTOW REST', {'entities': [(4, 7, 'NUMBER')]}),\n",
              " ('SONIC #3207', {'entities': [(7, 11, 'NUMBER')]}),\n",
              " ('HY VEE 1040', {'entities': [(7, 11, 'NUMBER')]}),\n",
              " (\"MCDONALD'S F1013\", {'entities': [(11, 16, 'NUMBER')]}),\n",
              " ('CHEVRON 00207812', {'entities': [(10, 16, 'NUMBER')]}),\n",
              " ('EXPRESS#0920', {'entities': [(9, 12, 'NUMBER')]}),\n",
              " (\"MCDONALD'S F16829\", {'entities': [(11, 17, 'NUMBER')]}),\n",
              " ('CHEVRON 0208998    Q61', {'entities': [(9, 15, 'NUMBER')]}),\n",
              " ('STARBUCKS STORE 49134', {'entities': [(16, 21, 'NUMBER')]}),\n",
              " ('CHEVRON 0302900', {'entities': [(9, 15, 'NUMBER')]}),\n",
              " ('CIRCLE K 01251', {'entities': [(10, 14, 'NUMBER')]}),\n",
              " ('NST BEST BUY #479  002610', {'entities': [(14, 17, 'NUMBER')]}),\n",
              " ('HOLIDAY STNSTORE 0354', {'entities': [(18, 21, 'NUMBER')]}),\n",
              " (\"DOMINO'S 7430\", {'entities': [(9, 13, 'NUMBER')]}),\n",
              " ('NST ROSS STORE #483280353', {'entities': [(16, 25, 'NUMBER')]}),\n",
              " (\"MCDONALD'S F5579\", {'entities': [(11, 16, 'NUMBER')]}),\n",
              " ('NST ROSS STORES #10262660', {'entities': [(17, 25, 'NUMBER')]}),\n",
              " ('HOLIDAY STNSTORE 0447', {'entities': [(18, 21, 'NUMBER')]}),\n",
              " ('NST BEST BUY #25   232381', {'entities': [(14, 16, 'NUMBER')]}),\n",
              " ('MEIJER # 196', {'entities': [(9, 12, 'NUMBER')]}),\n",
              " ('SUBWAY        00516260', {'entities': [(16, 22, 'NUMBER')]}),\n",
              " (\"DOMINO'S 6870\", {'entities': [(9, 13, 'NUMBER')]}),\n",
              " ('MARATHON PETRO045518', {'entities': [(15, 20, 'NUMBER')]}),\n",
              " (\"MCDONALD'S F2128\", {'entities': [(11, 16, 'NUMBER')]}),\n",
              " ('DOLLAR GENERAL #22357', {'entities': [(16, 21, 'NUMBER')]}),\n",
              " ('SUNOCO 0748361300', {'entities': [(8, 17, 'NUMBER')]}),\n",
              " (\"MCDONALD'S F3172\", {'entities': [(11, 16, 'NUMBER')]}),\n",
              " (\"DENNY'S #9505\", {'entities': [(9, 13, 'NUMBER')]}),\n",
              " ('THE HOME DEPOT #1407', {'entities': [(16, 20, 'NUMBER')]}),\n",
              " (\"PAPA JOHN'S 01548.COM\", {'entities': [(13, 17, 'NUMBER')]}),\n",
              " ('CIRCLE K # 06524         OCALA        FL',\n",
              "  {'entities': [(12, 16, 'NUMBER')]}),\n",
              " ('AutoZone 6425 711 E MAI', {'entities': [(9, 13, 'NUMBER')]}),\n",
              " ('THE HOME DEPOT #6853', {'entities': [(16, 20, 'NUMBER')]}),\n",
              " ('TEXACO 0308296', {'entities': [(8, 14, 'NUMBER')]}),\n",
              " ('NNT LANE BRYANT 455460', {'entities': [(17, 21, 'NUMBER')]}),\n",
              " ('HOLIDAY STNSTORE 0142', {'entities': [(18, 21, 'NUMBER')]}),\n",
              " ('NST ROSS STORES #11572299', {'entities': [(17, 25, 'NUMBER')]}),\n",
              " (\"DOMINO'S 3857\", {'entities': [(9, 13, 'NUMBER')]}),\n",
              " ('WEST MARINE #1327', {'entities': [(13, 17, 'NUMBER')]}),\n",
              " ('NST BEST BUY #27   002732', {'entities': [(14, 16, 'NUMBER')]}),\n",
              " ('HOLIDAY STNSTORE 0303', {'entities': [(18, 21, 'NUMBER')]}),\n",
              " ('PALAIS ROYAL #24', {'entities': [(14, 16, 'NUMBER')]}),\n",
              " ('MEIJER # 209 128', {'entities': [(9, 12, 'NUMBER')]}),\n",
              " (\"DENNY'S #7350 180073\", {'entities': [(9, 13, 'NUMBER')]}),\n",
              " ('NST BEST BUY #1783 532412', {'entities': [(14, 18, 'NUMBER')]}),\n",
              " ('WAL-MART #1316', {'entities': [(10, 14, 'NUMBER')]}),\n",
              " ('WALGREENS #4102', {'entities': [(11, 15, 'NUMBER')]}),\n",
              " ('NST ROSS STORES #11002986', {'entities': [(17, 25, 'NUMBER')]}),\n",
              " ('CNS EXPRESS#0098   670753', {'entities': [(14, 16, 'NUMBER')]}),\n",
              " ('NST BEST BUY #1774 532399', {'entities': [(14, 18, 'NUMBER')]}),\n",
              " ('CIRCLE K 02910', {'entities': [(10, 14, 'NUMBER')]}),\n",
              " ('NNT SEARS HOMETOWN 231594', {'entities': [(19, 23, 'NUMBER')]}),\n",
              " ('NST ROSS STORES #10630845', {'entities': [(17, 25, 'NUMBER')]}),\n",
              " ('DAIRY QUEEN #42', {'entities': [(13, 15, 'NUMBER')]}),\n",
              " ('HOLIDAY STNSTORE 0437', {'entities': [(18, 21, 'NUMBER')]}),\n",
              " ('NNT FAMOUS FOOTWEAR572264', {'entities': [(19, 25, 'NUMBER')]}),\n",
              " ('NNT BURLNGTON STORE171793', {'entities': [(19, 25, 'NUMBER')]}),\n",
              " ('SUBWAY        03312162', {'entities': [(15, 22, 'NUMBER')]}),\n",
              " ('JIMMY JOHNS # 4 - ECO', {'entities': [(14, 15, 'NUMBER')]}),\n",
              " ('CVS/PHARMACY #01858 00000', {'entities': [(15, 19, 'NUMBER')]}),\n",
              " (\"MCDONALD'S F26490\", {'entities': [(11, 17, 'NUMBER')]}),\n",
              " ('JIMMY JOHNS - 974', {'entities': [(14, 17, 'NUMBER')]}),\n",
              " ('NNT FAMOUS FOOTWEAR881706', {'entities': [(19, 25, 'NUMBER')]}),\n",
              " (\"WENDY'S 3626\", {'entities': [(8, 12, 'NUMBER')]}),\n",
              " ('CIRCLE K 06286', {'entities': [(10, 14, 'NUMBER')]}),\n",
              " ('BIG O TIRES #6255        GRAND JUNCTIOCO',\n",
              "  {'entities': [(13, 17, 'NUMBER')]}),\n",
              " ('NST ROSS STORES #14560807', {'entities': [(17, 25, 'NUMBER')]}),\n",
              " ('TACO BELL 739723', {'entities': [(10, 16, 'NUMBER')]}),\n",
              " ('BOSTON MARKET 0113', {'entities': [(15, 18, 'NUMBER')]}),\n",
              " ('NST ROSS STORES #14782798', {'entities': [(17, 25, 'NUMBER')]}),\n",
              " ('SUBWAY 25139             FORT MOJAVE  AZ',\n",
              "  {'entities': [(7, 12, 'NUMBER')]}),\n",
              " (\"DENNY'S #9386\", {'entities': [(9, 13, 'NUMBER')]}),\n",
              " ('NST ROSS STORES #12862950', {'entities': [(17, 25, 'NUMBER')]}),\n",
              " ('ARBYS #7591 CAMBRIDGE', {'entities': [(7, 11, 'NUMBER')]}),\n",
              " ('CASEYS GEN STORE 2', {'entities': [(17, 18, 'NUMBER')]}),\n",
              " ('NST BEST BUY #500  970304', {'entities': [(14, 17, 'NUMBER')]}),\n",
              " (\"MCDONALD'S F35869MCDONALD'S F35869\", {'entities': [(11, 17, 'NUMBER')]}),\n",
              " ('NNT FAMOUS FOOTWEAR470811', {'entities': [(19, 25, 'NUMBER')]}),\n",
              " ('SUNOCO 0374572602', {'entities': [(8, 17, 'NUMBER')]}),\n",
              " (\"DOMINO'S 9502\", {'entities': [(9, 13, 'NUMBER')]}),\n",
              " ('KFC G020029', {'entities': [(4, 11, 'NUMBER')]}),\n",
              " ('DUNKIN #355514', {'entities': [(8, 14, 'NUMBER')]}),\n",
              " ('THE HOME DEPOT #6828', {'entities': [(16, 20, 'NUMBER')]}),\n",
              " ('RUE21 #1129 BLUE', {'entities': [(7, 11, 'NUMBER')]}),\n",
              " ('WM SUPERCENTER #34', {'entities': [(16, 18, 'NUMBER')]}),\n",
              " ('RACETRAC485   00004853', {'entities': [(8, 11, 'NUMBER')]}),\n",
              " ('DEL TACO 833', {'entities': [(9, 12, 'NUMBER')]}),\n",
              " ('NNT BURLNGTON STORE472605', {'entities': [(19, 25, 'NUMBER')]}),\n",
              " (\"WENDY'S #05320\", {'entities': [(10, 14, 'NUMBER')]}),\n",
              " ('DUNKIN #337734 Q35', {'entities': [(8, 14, 'NUMBER')]}),\n",
              " (\"MCDONALD'S F565          CLARKSVILLE  TN\",\n",
              "  {'entities': [(11, 15, 'NUMBER')]}),\n",
              " ('WALGREENS #13822', {'entities': [(11, 16, 'NUMBER')]}),\n",
              " ('QDOBA 2050', {'entities': [(6, 10, 'NUMBER')]}),\n",
              " ('TACO BELL 729724', {'entities': [(10, 16, 'NUMBER')]}),\n",
              " ('THE HOME DEPOT #0662', {'entities': [(17, 20, 'NUMBER')]}),\n",
              " ('HOLIDAY STNSTORE 0453', {'entities': [(18, 21, 'NUMBER')]}),\n",
              " ('NST BEST BUY #235  860244', {'entities': [(14, 17, 'NUMBER')]}),\n",
              " (\"WENDY'S #4215\", {'entities': [(9, 13, 'NUMBER')]}),\n",
              " ('NST ROSS STORES #13360692', {'entities': [(17, 25, 'NUMBER')]}),\n",
              " ('NNT FAMOUSFOOTWEAR#570903', {'entities': [(19, 25, 'NUMBER')]}),\n",
              " ('NST BEST BUY #304  561499', {'entities': [(14, 17, 'NUMBER')]}),\n",
              " ('NST BEST BUY #380  830230', {'entities': [(14, 17, 'NUMBER')]}),\n",
              " ('HOLIDAY STNSTORE 0046', {'entities': [(19, 21, 'NUMBER')]}),\n",
              " ('REGIS SALON 4842', {'entities': [(12, 16, 'NUMBER')]}),\n",
              " ('NNT ZUMIEZ #409    581936', {'entities': [(12, 15, 'NUMBER')]}),\n",
              " ('PIER 1 IMPORTS00008060', {'entities': [(18, 21, 'NUMBER')]}),\n",
              " ('LOWES #02282* BRANDON, FL (7679)', {'entities': [(8, 12, 'NUMBER')]}),\n",
              " ('WALGREENS #15474', {'entities': [(11, 16, 'NUMBER')]}),\n",
              " ('STARBUCKS #08988 MEDFORD', {'entities': [(12, 16, 'NUMBER')]}),\n",
              " ('WENDYS #0179', {'entities': [(9, 12, 'NUMBER')]}),\n",
              " ('ARBYS #7871 THIEF RIVER', {'entities': [(7, 11, 'NUMBER')]}),\n",
              " ('NST BEST BUY #387  181855', {'entities': [(14, 17, 'NUMBER')]}),\n",
              " (\"WENDY'S #1970 000001970\", {'entities': [(9, 13, 'NUMBER')]}),\n",
              " ('HOLIDAY STNSTORE 0256', {'entities': [(18, 21, 'NUMBER')]}),\n",
              " (\"PAPA JOHN'S #295\", {'entities': [(13, 16, 'NUMBER')]}),\n",
              " ('WENDYS #514 TAMPA, FL (7271)', {'entities': [(8, 11, 'NUMBER')]}),\n",
              " ('MURPHY7548ATWALMART      LITHIA SPRINGGA',\n",
              "  {'entities': [(6, 10, 'NUMBER')]}),\n",
              " ('NNT FAMOUS FOOTWEAR830366', {'entities': [(19, 25, 'NUMBER')]}),\n",
              " ('QDOBA #291             FORT COLLINS COUS',\n",
              "  {'entities': [(7, 10, 'NUMBER')]}),\n",
              " ('JUSTICE 0407', {'entities': [(9, 12, 'NUMBER')]}),\n",
              " ('NNT BURLNGTON STORE001491', {'entities': [(21, 25, 'NUMBER')]}),\n",
              " ('NNT HIBBETT SPORTS 072473', {'entities': [(20, 25, 'NUMBER')]}),\n",
              " ('HARBOR FREIGHT TOOLS 233', {'entities': [(21, 24, 'NUMBER')]}),\n",
              " (\"MCDONALD'S F6297\", {'entities': [(11, 16, 'NUMBER')]}),\n",
              " (\"ARBY'S 8396\", {'entities': [(7, 11, 'NUMBER')]}),\n",
              " ('TACO BELL 723832', {'entities': [(10, 16, 'NUMBER')]}),\n",
              " ('NNT BURLNGTON STORE460391', {'entities': [(19, 25, 'NUMBER')]}),\n",
              " ('JIMMY JOHNS - 13', {'entities': [(14, 16, 'NUMBER')]}),\n",
              " ('IN N OUT BURGER 284', {'entities': [(16, 19, 'NUMBER')]}),\n",
              " ('THE CHILDRENS PLACE #1624', {'entities': [(21, 25, 'NUMBER')]}),\n",
              " ('SPEEDWAY 06406 BRADENTO, FL (5243)', {'entities': [(10, 14, 'NUMBER')]}),\n",
              " ('BELK #0619 PHIPP', {'entities': [(7, 10, 'NUMBER')]}),\n",
              " ('NNT SEARS HOMETOWN 000415', {'entities': [(22, 23, 'NUMBER')]}),\n",
              " ('NST BEST BUY #47   571045', {'entities': [(14, 16, 'NUMBER')]}),\n",
              " ('SUNOCO 0780350500  QPS', {'entities': [(8, 17, 'NUMBER')]}),\n",
              " ('STOP & SHOP #523', {'entities': [(13, 16, 'NUMBER')]}),\n",
              " ('KUM & GO #927', {'entities': [(10, 13, 'NUMBER')]}),\n",
              " ('KROGER #0445', {'entities': [(9, 12, 'NUMBER')]}),\n",
              " (\"PAPA MURPHY'S CA142\", {'entities': [(14, 19, 'NUMBER')]}),\n",
              " ('AUTOZONE  2322 1', {'entities': [(10, 14, 'NUMBER')]}),\n",
              " ('LOAF N JUG #0167', {'entities': [(13, 16, 'NUMBER')]}),\n",
              " ('KFC L765004   66850041', {'entities': [(4, 11, 'NUMBER')]}),\n",
              " ('DAIRY QUEEN #11789', {'entities': [(13, 18, 'NUMBER')]}),\n",
              " ('SUPERAMERICA 4204', {'entities': [(13, 17, 'NUMBER')]}),\n",
              " ('Subway 14639', {'entities': [(7, 12, 'NUMBER')]}),\n",
              " ('CHECKERS 687', {'entities': [(9, 12, 'NUMBER')]}),\n",
              " ('OCHARLEYS206BOWLGR 000000', {'entities': [(9, 12, 'NUMBER')]}),\n",
              " ('JIMMY JOHNS - 1338', {'entities': [(14, 18, 'NUMBER')]}),\n",
              " ('FRESH & EASY #1167       CORONA       CA',\n",
              "  {'entities': [(14, 18, 'NUMBER')]}),\n",
              " (\"DOMINO'S 3162\", {'entities': [(9, 13, 'NUMBER')]}),\n",
              " ('PIZZA HUT 2989', {'entities': [(10, 14, 'NUMBER')]}),\n",
              " ('DUNKIN #346432     Q35', {'entities': [(8, 14, 'NUMBER')]}),\n",
              " ('SUNOCO 0013625903', {'entities': [(9, 17, 'NUMBER')]}),\n",
              " ('SUBWAY        00040055', {'entities': [(17, 21, 'NUMBER')]}),\n",
              " ('SUBWAY        04016168', {'entities': [(15, 22, 'NUMBER')]}),\n",
              " ('TJMAXX #0452 000000452', {'entities': [(9, 12, 'NUMBER')]}),\n",
              " (\"WENDY'S #4611\", {'entities': [(9, 13, 'NUMBER')]}),\n",
              " ('WINN-DIXIE #01', {'entities': [(13, 14, 'NUMBER')]}),\n",
              " ('ROSS STORES #1049', {'entities': [(13, 17, 'NUMBER')]}),\n",
              " (\"DOMINO'S 1901\", {'entities': [(9, 13, 'NUMBER')]}),\n",
              " ('JO-ANN STORE #2314', {'entities': [(14, 18, 'NUMBER')]}),\n",
              " ('TACO BELL #029071', {'entities': [(12, 17, 'NUMBER')]}),\n",
              " ('OLD NAVY #6470', {'entities': [(10, 14, 'NUMBER')]}),\n",
              " ('KOHLS 0043 3737 S 27TH', {'entities': [(8, 10, 'NUMBER')]}),\n",
              " (\"LOWE'S #0046\", {'entities': [(10, 12, 'NUMBER')]}),\n",
              " ('MEIJER # 029 233', {'entities': [(10, 12, 'NUMBER')]}),\n",
              " ('JIMMY JOHNS - 2', {'entities': [(14, 15, 'NUMBER')]}),\n",
              " (\"MACY'S      730\", {'entities': [(12, 15, 'NUMBER')]}),\n",
              " ('NST BEST BUY #421  131953', {'entities': [(14, 17, 'NUMBER')]}),\n",
              " ('THE HOME DEPOT #1085', {'entities': [(16, 20, 'NUMBER')]}),\n",
              " ('CIRCLE K # 23853', {'entities': [(11, 16, 'NUMBER')]}),\n",
              " ('SIX 02 46221 SIX 02 46221', {'entities': [(7, 12, 'NUMBER')]}),\n",
              " ('AUTOZONE  1563', {'entities': [(10, 14, 'NUMBER')]}),\n",
              " ('CIRCLE K 05601', {'entities': [(10, 14, 'NUMBER')]}),\n",
              " ('NST BEST BUY #29   871122', {'entities': [(14, 16, 'NUMBER')]}),\n",
              " ('WAL-MART #5754           WILLIAMSBURG VA',\n",
              "  {'entities': [(10, 14, 'NUMBER')]}),\n",
              " ('TACO BELL #021103', {'entities': [(12, 17, 'NUMBER')]}),\n",
              " ('NST ROSS STORES #17131522', {'entities': [(17, 25, 'NUMBER')]}),\n",
              " ('NST BEST BUY #440  130975', {'entities': [(14, 17, 'NUMBER')]}),\n",
              " ('WAL-MART #0976 0WINNSBORO 0LA', {'entities': [(11, 14, 'NUMBER')]}),\n",
              " ('BP#5998869CK ST', {'entities': [(3, 10, 'NUMBER')]}),\n",
              " ('ROSS STORES #15', {'entities': [(13, 15, 'NUMBER')]}),\n",
              " ('SPRINT STORE #346', {'entities': [(14, 17, 'NUMBER')]}),\n",
              " ('SPEEDWAY 07134 4343 OL', {'entities': [(10, 14, 'NUMBER')]}),\n",
              " ('THE HOME DEPOT #8550', {'entities': [(16, 20, 'NUMBER')]}),\n",
              " ('OUTBACK 0315', {'entities': [(9, 12, 'NUMBER')]})]"
            ]
          },
          "metadata": {},
          "execution_count": 8
        }
      ]
    },
    {
      "cell_type": "code",
      "source": [
        "import spacy\n",
        "from tqdm import tqdm"
      ],
      "metadata": {
        "id": "ldQyvQ0UBIlP"
      },
      "execution_count": 9,
      "outputs": []
    },
    {
      "cell_type": "code",
      "source": [
        "nlp = spacy.blank('en') \n",
        "ner = nlp.create_pipe('ner') \n",
        "nlp.add_pipe(ner)"
      ],
      "metadata": {
        "id": "WsIr5SfRBhLA"
      },
      "execution_count": 10,
      "outputs": []
    },
    {
      "cell_type": "code",
      "source": [
        "import random"
      ],
      "metadata": {
        "id": "HPTFuj3hTz0e"
      },
      "execution_count": 11,
      "outputs": []
    },
    {
      "cell_type": "code",
      "source": [
        "for _, annotations in train_data: \n",
        "    for ent in annotations.get('entities'):\n",
        "        ner.add_label(ent[2])\n",
        "\n",
        "other_pipes = [pipe for pipe in nlp.pipe_names if pipe != 'ner']\n",
        "with nlp.disable_pipes(*other_pipes): \n",
        "    optimizer = nlp.begin_training()\n",
        "    for itn in range(30):\n",
        "        random.shuffle(train_data)\n",
        "        losses = {}\n",
        "        for text, annotations in tqdm(train_data):\n",
        "            nlp.update(\n",
        "                [text],  \n",
        "                [annotations],  \n",
        "                drop=0.5,  \n",
        "                sgd=optimizer,\n",
        "                losses=losses)\n",
        "        print(losses)"
      ],
      "metadata": {
        "colab": {
          "base_uri": "https://localhost:8080/"
        },
        "id": "vQh1nmk4C5iC",
        "outputId": "d1426c00-c0fe-44e2-d051-547845fd6cdb"
      },
      "execution_count": 12,
      "outputs": [
        {
          "output_type": "stream",
          "name": "stderr",
          "text": [
            "100%|██████████| 200/200 [00:05<00:00, 36.12it/s]\n"
          ]
        },
        {
          "output_type": "stream",
          "name": "stdout",
          "text": [
            "{'ner': 139.5420432683508}\n"
          ]
        },
        {
          "output_type": "stream",
          "name": "stderr",
          "text": [
            "100%|██████████| 200/200 [00:05<00:00, 36.63it/s]\n"
          ]
        },
        {
          "output_type": "stream",
          "name": "stdout",
          "text": [
            "{'ner': 25.69481070868198}\n"
          ]
        },
        {
          "output_type": "stream",
          "name": "stderr",
          "text": [
            "100%|██████████| 200/200 [00:05<00:00, 35.33it/s]\n"
          ]
        },
        {
          "output_type": "stream",
          "name": "stdout",
          "text": [
            "{'ner': 10.239890155632313}\n"
          ]
        },
        {
          "output_type": "stream",
          "name": "stderr",
          "text": [
            "100%|██████████| 200/200 [00:07<00:00, 27.34it/s]\n"
          ]
        },
        {
          "output_type": "stream",
          "name": "stdout",
          "text": [
            "{'ner': 10.082619231479484}\n"
          ]
        },
        {
          "output_type": "stream",
          "name": "stderr",
          "text": [
            "100%|██████████| 200/200 [00:06<00:00, 28.62it/s]\n"
          ]
        },
        {
          "output_type": "stream",
          "name": "stdout",
          "text": [
            "{'ner': 3.429775504929937}\n"
          ]
        },
        {
          "output_type": "stream",
          "name": "stderr",
          "text": [
            "100%|██████████| 200/200 [00:05<00:00, 34.26it/s]\n"
          ]
        },
        {
          "output_type": "stream",
          "name": "stdout",
          "text": [
            "{'ner': 2.0039420224552593}\n"
          ]
        },
        {
          "output_type": "stream",
          "name": "stderr",
          "text": [
            "100%|██████████| 200/200 [00:05<00:00, 34.05it/s]\n"
          ]
        },
        {
          "output_type": "stream",
          "name": "stdout",
          "text": [
            "{'ner': 0.007178431620379518}\n"
          ]
        },
        {
          "output_type": "stream",
          "name": "stderr",
          "text": [
            "100%|██████████| 200/200 [00:08<00:00, 23.98it/s]\n"
          ]
        },
        {
          "output_type": "stream",
          "name": "stdout",
          "text": [
            "{'ner': 3.57465942127303}\n"
          ]
        },
        {
          "output_type": "stream",
          "name": "stderr",
          "text": [
            "100%|██████████| 200/200 [00:09<00:00, 20.51it/s]\n"
          ]
        },
        {
          "output_type": "stream",
          "name": "stdout",
          "text": [
            "{'ner': 5.620929522064287}\n"
          ]
        },
        {
          "output_type": "stream",
          "name": "stderr",
          "text": [
            "100%|██████████| 200/200 [00:10<00:00, 19.95it/s]\n"
          ]
        },
        {
          "output_type": "stream",
          "name": "stdout",
          "text": [
            "{'ner': 4.973545083526231e-05}\n"
          ]
        },
        {
          "output_type": "stream",
          "name": "stderr",
          "text": [
            "100%|██████████| 200/200 [00:10<00:00, 19.44it/s]\n"
          ]
        },
        {
          "output_type": "stream",
          "name": "stdout",
          "text": [
            "{'ner': 0.2691562766176161}\n"
          ]
        },
        {
          "output_type": "stream",
          "name": "stderr",
          "text": [
            "100%|██████████| 200/200 [00:09<00:00, 20.48it/s]\n"
          ]
        },
        {
          "output_type": "stream",
          "name": "stdout",
          "text": [
            "{'ner': 0.004349694356211574}\n"
          ]
        },
        {
          "output_type": "stream",
          "name": "stderr",
          "text": [
            "100%|██████████| 200/200 [00:09<00:00, 20.78it/s]\n"
          ]
        },
        {
          "output_type": "stream",
          "name": "stdout",
          "text": [
            "{'ner': 1.2780880292548635}\n"
          ]
        },
        {
          "output_type": "stream",
          "name": "stderr",
          "text": [
            "100%|██████████| 200/200 [00:09<00:00, 20.04it/s]\n"
          ]
        },
        {
          "output_type": "stream",
          "name": "stdout",
          "text": [
            "{'ner': 0.00023420829425238317}\n"
          ]
        },
        {
          "output_type": "stream",
          "name": "stderr",
          "text": [
            "100%|██████████| 200/200 [00:09<00:00, 20.16it/s]\n"
          ]
        },
        {
          "output_type": "stream",
          "name": "stdout",
          "text": [
            "{'ner': 13.94214197666709}\n"
          ]
        },
        {
          "output_type": "stream",
          "name": "stderr",
          "text": [
            "100%|██████████| 200/200 [00:09<00:00, 20.61it/s]\n"
          ]
        },
        {
          "output_type": "stream",
          "name": "stdout",
          "text": [
            "{'ner': 5.966201677458981}\n"
          ]
        },
        {
          "output_type": "stream",
          "name": "stderr",
          "text": [
            "100%|██████████| 200/200 [00:09<00:00, 20.76it/s]\n"
          ]
        },
        {
          "output_type": "stream",
          "name": "stdout",
          "text": [
            "{'ner': 0.8802560902336329}\n"
          ]
        },
        {
          "output_type": "stream",
          "name": "stderr",
          "text": [
            "100%|██████████| 200/200 [00:09<00:00, 20.83it/s]\n"
          ]
        },
        {
          "output_type": "stream",
          "name": "stdout",
          "text": [
            "{'ner': 2.8842305224855957}\n"
          ]
        },
        {
          "output_type": "stream",
          "name": "stderr",
          "text": [
            "100%|██████████| 200/200 [00:09<00:00, 20.24it/s]\n"
          ]
        },
        {
          "output_type": "stream",
          "name": "stdout",
          "text": [
            "{'ner': 8.007964166232608}\n"
          ]
        },
        {
          "output_type": "stream",
          "name": "stderr",
          "text": [
            "100%|██████████| 200/200 [00:10<00:00, 19.85it/s]\n"
          ]
        },
        {
          "output_type": "stream",
          "name": "stdout",
          "text": [
            "{'ner': 4.509272639166477}\n"
          ]
        },
        {
          "output_type": "stream",
          "name": "stderr",
          "text": [
            "100%|██████████| 200/200 [00:09<00:00, 20.98it/s]\n"
          ]
        },
        {
          "output_type": "stream",
          "name": "stdout",
          "text": [
            "{'ner': 4.158093486014492}\n"
          ]
        },
        {
          "output_type": "stream",
          "name": "stderr",
          "text": [
            "100%|██████████| 200/200 [00:09<00:00, 20.81it/s]\n"
          ]
        },
        {
          "output_type": "stream",
          "name": "stdout",
          "text": [
            "{'ner': 7.722471641003708e-05}\n"
          ]
        },
        {
          "output_type": "stream",
          "name": "stderr",
          "text": [
            "100%|██████████| 200/200 [00:09<00:00, 20.38it/s]\n"
          ]
        },
        {
          "output_type": "stream",
          "name": "stdout",
          "text": [
            "{'ner': 0.026888719372644095}\n"
          ]
        },
        {
          "output_type": "stream",
          "name": "stderr",
          "text": [
            "100%|██████████| 200/200 [00:09<00:00, 20.31it/s]\n"
          ]
        },
        {
          "output_type": "stream",
          "name": "stdout",
          "text": [
            "{'ner': 2.0000032285590468}\n"
          ]
        },
        {
          "output_type": "stream",
          "name": "stderr",
          "text": [
            "100%|██████████| 200/200 [00:09<00:00, 20.48it/s]\n"
          ]
        },
        {
          "output_type": "stream",
          "name": "stdout",
          "text": [
            "{'ner': 3.9948070924495696}\n"
          ]
        },
        {
          "output_type": "stream",
          "name": "stderr",
          "text": [
            "100%|██████████| 200/200 [00:09<00:00, 20.46it/s]\n"
          ]
        },
        {
          "output_type": "stream",
          "name": "stdout",
          "text": [
            "{'ner': 3.9992587306432594}\n"
          ]
        },
        {
          "output_type": "stream",
          "name": "stderr",
          "text": [
            "100%|██████████| 200/200 [00:09<00:00, 20.49it/s]\n"
          ]
        },
        {
          "output_type": "stream",
          "name": "stdout",
          "text": [
            "{'ner': 2.0000000007762107}\n"
          ]
        },
        {
          "output_type": "stream",
          "name": "stderr",
          "text": [
            "100%|██████████| 200/200 [00:09<00:00, 20.87it/s]\n"
          ]
        },
        {
          "output_type": "stream",
          "name": "stdout",
          "text": [
            "{'ner': 2.76368576436498}\n"
          ]
        },
        {
          "output_type": "stream",
          "name": "stderr",
          "text": [
            "100%|██████████| 200/200 [00:09<00:00, 20.75it/s]\n"
          ]
        },
        {
          "output_type": "stream",
          "name": "stdout",
          "text": [
            "{'ner': 0.00013547585192785503}\n"
          ]
        },
        {
          "output_type": "stream",
          "name": "stderr",
          "text": [
            "100%|██████████| 200/200 [00:09<00:00, 20.58it/s]"
          ]
        },
        {
          "output_type": "stream",
          "name": "stdout",
          "text": [
            "{'ner': 1.5039316305863469e-05}\n"
          ]
        },
        {
          "output_type": "stream",
          "name": "stderr",
          "text": [
            "\n"
          ]
        }
      ]
    },
    {
      "cell_type": "code",
      "source": [
        "for text, _ in train_data:\n",
        "    doc = nlp(text)\n",
        "    ent = [(ent.text) for ent in doc.ents]\n",
        "    print(ent)"
      ],
      "metadata": {
        "colab": {
          "base_uri": "https://localhost:8080/"
        },
        "id": "CAU-Je2LKP4b",
        "outputId": "05f80648-58df-4fad-ac2f-05ac43321935"
      },
      "execution_count": 13,
      "outputs": [
        {
          "output_type": "stream",
          "name": "stdout",
          "text": [
            "['1970']\n",
            "['EXPRESS#0098']\n",
            "['13822']\n",
            "['STORE472605']\n",
            "[]\n",
            "['729724']\n",
            "['14782798']\n",
            "['FAMOUSFOOTWEAR#570903']\n",
            "['723832']\n",
            "['483280353']\n",
            "['233']\n",
            "['5754']\n",
            "['G020029']\n",
            "['1085']\n",
            "['0780350500']\n",
            "['3857']\n",
            "['440']\n",
            "['337734']\n",
            "['7591']\n",
            "['1305']\n",
            "['3162']\n",
            "['295']\n",
            "[]\n",
            "['500']\n",
            "['25']\n",
            "[]\n",
            "['284']\n",
            "['304']\n",
            "[]\n",
            "[]\n",
            "['4215']\n",
            "['2989']\n",
            "['PETRO045518']\n",
            "['974']\n",
            "['14639']\n",
            "[]\n",
            "['10262660']\n",
            "['0142']\n",
            "['380']\n",
            "['3207']\n",
            "['1040']\n",
            "['01']\n",
            "['1847']\n",
            "['9502']\n",
            "['1338']\n",
            "['0354']\n",
            "['072473']\n",
            "[]\n",
            "['F6297']\n",
            "['F26490']\n",
            "[]\n",
            "['029']\n",
            "['0662']\n",
            "['46221']\n",
            "['3547']\n",
            "['15474']\n",
            "['409']\n",
            "['2650']\n",
            "['F565']\n",
            "[]\n",
            "['687']\n",
            "['1563']\n",
            "['13360692']\n",
            "['1783']\n",
            "['479']\n",
            "[]\n",
            "['029071']\n",
            "[]\n",
            "['0113']\n",
            "['26824']\n",
            "['0447']\n",
            "['421']\n",
            "['29']\n",
            "[]\n",
            "['7430']\n",
            "[]\n",
            "['22357']\n",
            "['F16829']\n",
            "['11789']\n",
            "['2']\n",
            "['7350']\n",
            "['9386']\n",
            "['209']\n",
            "['6425']\n",
            "['4204']\n",
            "['25139']\n",
            "['1327']\n",
            "['730']\n",
            "['3626']\n",
            "['F1013']\n",
            "['12862950']\n",
            "[]\n",
            "['833']\n",
            "['15']\n",
            "['1129']\n",
            "['2050']\n",
            "['0303']\n",
            "['196']\n",
            "['F3172']\n",
            "[]\n",
            "['0040']\n",
            "['05320']\n",
            "['07134']\n",
            "['02282']\n",
            "['4611']\n",
            "['568']\n",
            "['6470']\n",
            "[]\n",
            "[]\n",
            "['9505']\n",
            "['0976']\n",
            "[]\n",
            "['8550']\n",
            "['231594']\n",
            "['0748361300']\n",
            "['021103']\n",
            "[]\n",
            "['17131522']\n",
            "['0179']\n",
            "['4']\n",
            "['1485']\n",
            "['535']\n",
            "[]\n",
            "['42']\n",
            "[]\n",
            "['F35869MCDONALD']\n",
            "['291']\n",
            "['FOOTWEAR830366']\n",
            "['6828']\n",
            "['F5579']\n",
            "['739723']\n",
            "['L765004']\n",
            "['0453']\n",
            "['11002986']\n",
            "['FOOTWEAR470811']\n",
            "['2257']\n",
            "['49134']\n",
            "[]\n",
            "['24']\n",
            "[]\n",
            "['0046']\n",
            "['34']\n",
            "['STORE171793']\n",
            "['1774']\n",
            "['1316']\n",
            "['STORE001491']\n",
            "['1901']\n",
            "['355514']\n",
            "['7871']\n",
            "['455460']\n",
            "['6853']\n",
            "['1167']\n",
            "['6870']\n",
            "['14560807']\n",
            "['13']\n",
            "['2322']\n",
            "['10630845']\n",
            "['4102']\n",
            "['0046']\n",
            "['FOOTWEAR572264']\n",
            "['346']\n",
            "['2']\n",
            "['1407']\n",
            "['0167']\n",
            "['523']\n",
            "['0043']\n",
            "['0256']\n",
            "['FOOTWEAR881706']\n",
            "['06524']\n",
            "['23853']\n",
            "['0445']\n",
            "['0688']\n",
            "['2314']\n",
            "['003']\n",
            "['4681']\n",
            "['11572299']\n",
            "['4842']\n",
            "['000415']\n",
            "['8396']\n",
            "['0437']\n",
            "['CA142']\n",
            "['STORE460391']\n",
            "['235']\n",
            "['6255']\n",
            "['27']\n",
            "[]\n",
            "['F2128']\n",
            "[]\n",
            "['2202']\n",
            "['227']\n",
            "['1049']\n",
            "['927']\n",
            "['EXPRESS#0920']\n",
            "['514']\n",
            "['01548.COM']\n",
            "['387']\n",
            "['346432']\n",
            "['47']\n",
            "[]\n",
            "['1624']\n"
          ]
        }
      ]
    },
    {
      "cell_type": "code",
      "source": [
        "test = df.loc[df['dataset']=='test']\n",
        "\n",
        "test_data = []\n",
        "\n",
        "for item in test.values:\n",
        "    start, end = find_matches(item[0],item[1])\n",
        "    test_item = (item[0],{\n",
        "          'entities':[(start, end, 'NUMBER')]\n",
        "    })\n",
        "\n",
        "    test_data.append(test_item)\n",
        "\n",
        "result = []\n",
        "for text, _ in test_data:\n",
        "    doc = nlp(text)\n",
        "    ent = [(ent.text) for ent in doc.ents]\n",
        "    result.append(ent)\n",
        "    print(ent)\n",
        "    "
      ],
      "metadata": {
        "colab": {
          "base_uri": "https://localhost:8080/"
        },
        "id": "kZy_Mt8wDWF2",
        "outputId": "369bd42a-287e-401d-b658-620d14145212"
      },
      "execution_count": 14,
      "outputs": [
        {
          "output_type": "stream",
          "name": "stdout",
          "text": [
            "['242']\n",
            "[]\n",
            "['1419']\n",
            "['1019']\n",
            "['38']\n",
            "[]\n",
            "['629']\n",
            "['1475']\n",
            "['2505']\n",
            "['825']\n",
            "['2923']\n",
            "['058']\n",
            "['2039']\n",
            "['382']\n",
            "['012260']\n",
            "['864']\n",
            "[]\n",
            "['011']\n",
            "['70360265']\n",
            "['4393']\n",
            "['62']\n",
            "['7212']\n",
            "['30']\n",
            "['WRENTHA130571']\n",
            "['14178']\n",
            "['3220']\n",
            "['407']\n",
            "['14']\n",
            "['2454']\n",
            "['17871401']\n",
            "['3192']\n",
            "['862751']\n",
            "['1']\n",
            "[]\n",
            "['3889']\n",
            "['401']\n",
            "['2597']\n",
            "['1253']\n",
            "['507']\n",
            "['472831773']\n",
            "['277']\n",
            "['59']\n",
            "['48']\n",
            "['231']\n",
            "['11332']\n",
            "['16482149']\n",
            "['F33735']\n",
            "['F671']\n",
            "['F11370']\n",
            "['50']\n",
            "['11820']\n",
            "['6619']\n",
            "['6102']\n",
            "['F2383']\n",
            "['733780']\n",
            "['62132001']\n",
            "['F33124']\n",
            "['15392']\n",
            "['860977']\n",
            "['F122']\n",
            "['0982']\n",
            "['188']\n",
            "['15843']\n",
            "['2742643']\n",
            "['FOOTWEAR001261']\n",
            "['EXPRESS#0813']\n",
            "['7414']\n",
            "[]\n",
            "['392']\n",
            "['66165']\n",
            "['0647']\n",
            "['14788']\n",
            "['57331']\n",
            "['34493']\n",
            "['408']\n",
            "['10101']\n",
            "[]\n",
            "['405']\n",
            "['601128']\n",
            "['4633']\n",
            "['1997']\n",
            "['21000236']\n",
            "['FOOTWEAR730376']\n",
            "['PETRO170928']\n",
            "['0104235700']\n",
            "['FAMOUSFOOTWEAR#132427']\n",
            "['11966']\n",
            "[]\n",
            "['401']\n",
            "['51']\n",
            "['UT044']\n",
            "[]\n",
            "[]\n",
            "[]\n",
            "['513']\n",
            "['F2151']\n",
            "['1403']\n",
            "['06689']\n",
            "['8109']\n",
            "['0443']\n"
          ]
        }
      ]
    },
    {
      "cell_type": "code",
      "source": [
        "test['result'] = result\n",
        "test.head(15)"
      ],
      "metadata": {
        "colab": {
          "base_uri": "https://localhost:8080/",
          "height": 644
        },
        "id": "7viYyDRJaFxW",
        "outputId": "22724d21-e9f3-477b-d15f-36cbe7ccfb44"
      },
      "execution_count": 15,
      "outputs": [
        {
          "output_type": "stream",
          "name": "stderr",
          "text": [
            "/usr/local/lib/python3.7/dist-packages/ipykernel_launcher.py:1: SettingWithCopyWarning: \n",
            "A value is trying to be set on a copy of a slice from a DataFrame.\n",
            "Try using .loc[row_indexer,col_indexer] = value instead\n",
            "\n",
            "See the caveats in the documentation: https://pandas.pydata.org/pandas-docs/stable/user_guide/indexing.html#returning-a-view-versus-a-copy\n",
            "  \"\"\"Entry point for launching an IPython kernel.\n"
          ]
        },
        {
          "output_type": "execute_result",
          "data": {
            "text/plain": [
              "                       transaction_descriptor store_number dataset    result\n",
              "200                      IN-N-OUT BURGER #242          242    test     [242]\n",
              "201                  BP#9442088LIBERTYVILLE B      9442088    test        []\n",
              "202                             JCPENNEY 1419         1419    test    [1419]\n",
              "203                         ROSS STORES #1019         1019    test    [1019]\n",
              "204                        WM SUPERCENTER #38           38    test      [38]\n",
              "205                 TUESDAY MORNING # 0673 06          673    test        []\n",
              "206  IHOP 629                 WHITE HOUSE  TN          629    test     [629]\n",
              "207                 LBOUTLETS#4249 1475 N BUR         4249    test    [1475]\n",
              "208       WINN DIXIE #2505 VALRICO, FL (3454)         2505    test    [2505]\n",
              "209                     BURLINGTON STORES 825          825    test     [825]\n",
              "210                      WM SUPERCENTER #2923         2923    test    [2923]\n",
              "211   BUFFALO WILD WINGS 058 CARSON CITY   NV           58    test     [058]\n",
              "212                      BOB EVANS REST #2039         2039    test    [2039]\n",
              "213                     JIMMY JOHNS # 382 - E          382    test     [382]\n",
              "214                     PENSKE TRK LSG 012260        12260    test  [012260]"
            ],
            "text/html": [
              "\n",
              "  <div id=\"df-fdaf96b9-51f5-4892-bb46-ebc759cf4d89\">\n",
              "    <div class=\"colab-df-container\">\n",
              "      <div>\n",
              "<style scoped>\n",
              "    .dataframe tbody tr th:only-of-type {\n",
              "        vertical-align: middle;\n",
              "    }\n",
              "\n",
              "    .dataframe tbody tr th {\n",
              "        vertical-align: top;\n",
              "    }\n",
              "\n",
              "    .dataframe thead th {\n",
              "        text-align: right;\n",
              "    }\n",
              "</style>\n",
              "<table border=\"1\" class=\"dataframe\">\n",
              "  <thead>\n",
              "    <tr style=\"text-align: right;\">\n",
              "      <th></th>\n",
              "      <th>transaction_descriptor</th>\n",
              "      <th>store_number</th>\n",
              "      <th>dataset</th>\n",
              "      <th>result</th>\n",
              "    </tr>\n",
              "  </thead>\n",
              "  <tbody>\n",
              "    <tr>\n",
              "      <th>200</th>\n",
              "      <td>IN-N-OUT BURGER #242</td>\n",
              "      <td>242</td>\n",
              "      <td>test</td>\n",
              "      <td>[242]</td>\n",
              "    </tr>\n",
              "    <tr>\n",
              "      <th>201</th>\n",
              "      <td>BP#9442088LIBERTYVILLE B</td>\n",
              "      <td>9442088</td>\n",
              "      <td>test</td>\n",
              "      <td>[]</td>\n",
              "    </tr>\n",
              "    <tr>\n",
              "      <th>202</th>\n",
              "      <td>JCPENNEY 1419</td>\n",
              "      <td>1419</td>\n",
              "      <td>test</td>\n",
              "      <td>[1419]</td>\n",
              "    </tr>\n",
              "    <tr>\n",
              "      <th>203</th>\n",
              "      <td>ROSS STORES #1019</td>\n",
              "      <td>1019</td>\n",
              "      <td>test</td>\n",
              "      <td>[1019]</td>\n",
              "    </tr>\n",
              "    <tr>\n",
              "      <th>204</th>\n",
              "      <td>WM SUPERCENTER #38</td>\n",
              "      <td>38</td>\n",
              "      <td>test</td>\n",
              "      <td>[38]</td>\n",
              "    </tr>\n",
              "    <tr>\n",
              "      <th>205</th>\n",
              "      <td>TUESDAY MORNING # 0673 06</td>\n",
              "      <td>673</td>\n",
              "      <td>test</td>\n",
              "      <td>[]</td>\n",
              "    </tr>\n",
              "    <tr>\n",
              "      <th>206</th>\n",
              "      <td>IHOP 629                 WHITE HOUSE  TN</td>\n",
              "      <td>629</td>\n",
              "      <td>test</td>\n",
              "      <td>[629]</td>\n",
              "    </tr>\n",
              "    <tr>\n",
              "      <th>207</th>\n",
              "      <td>LBOUTLETS#4249 1475 N BUR</td>\n",
              "      <td>4249</td>\n",
              "      <td>test</td>\n",
              "      <td>[1475]</td>\n",
              "    </tr>\n",
              "    <tr>\n",
              "      <th>208</th>\n",
              "      <td>WINN DIXIE #2505 VALRICO, FL (3454)</td>\n",
              "      <td>2505</td>\n",
              "      <td>test</td>\n",
              "      <td>[2505]</td>\n",
              "    </tr>\n",
              "    <tr>\n",
              "      <th>209</th>\n",
              "      <td>BURLINGTON STORES 825</td>\n",
              "      <td>825</td>\n",
              "      <td>test</td>\n",
              "      <td>[825]</td>\n",
              "    </tr>\n",
              "    <tr>\n",
              "      <th>210</th>\n",
              "      <td>WM SUPERCENTER #2923</td>\n",
              "      <td>2923</td>\n",
              "      <td>test</td>\n",
              "      <td>[2923]</td>\n",
              "    </tr>\n",
              "    <tr>\n",
              "      <th>211</th>\n",
              "      <td>BUFFALO WILD WINGS 058 CARSON CITY   NV</td>\n",
              "      <td>58</td>\n",
              "      <td>test</td>\n",
              "      <td>[058]</td>\n",
              "    </tr>\n",
              "    <tr>\n",
              "      <th>212</th>\n",
              "      <td>BOB EVANS REST #2039</td>\n",
              "      <td>2039</td>\n",
              "      <td>test</td>\n",
              "      <td>[2039]</td>\n",
              "    </tr>\n",
              "    <tr>\n",
              "      <th>213</th>\n",
              "      <td>JIMMY JOHNS # 382 - E</td>\n",
              "      <td>382</td>\n",
              "      <td>test</td>\n",
              "      <td>[382]</td>\n",
              "    </tr>\n",
              "    <tr>\n",
              "      <th>214</th>\n",
              "      <td>PENSKE TRK LSG 012260</td>\n",
              "      <td>12260</td>\n",
              "      <td>test</td>\n",
              "      <td>[012260]</td>\n",
              "    </tr>\n",
              "  </tbody>\n",
              "</table>\n",
              "</div>\n",
              "      <button class=\"colab-df-convert\" onclick=\"convertToInteractive('df-fdaf96b9-51f5-4892-bb46-ebc759cf4d89')\"\n",
              "              title=\"Convert this dataframe to an interactive table.\"\n",
              "              style=\"display:none;\">\n",
              "        \n",
              "  <svg xmlns=\"http://www.w3.org/2000/svg\" height=\"24px\"viewBox=\"0 0 24 24\"\n",
              "       width=\"24px\">\n",
              "    <path d=\"M0 0h24v24H0V0z\" fill=\"none\"/>\n",
              "    <path d=\"M18.56 5.44l.94 2.06.94-2.06 2.06-.94-2.06-.94-.94-2.06-.94 2.06-2.06.94zm-11 1L8.5 8.5l.94-2.06 2.06-.94-2.06-.94L8.5 2.5l-.94 2.06-2.06.94zm10 10l.94 2.06.94-2.06 2.06-.94-2.06-.94-.94-2.06-.94 2.06-2.06.94z\"/><path d=\"M17.41 7.96l-1.37-1.37c-.4-.4-.92-.59-1.43-.59-.52 0-1.04.2-1.43.59L10.3 9.45l-7.72 7.72c-.78.78-.78 2.05 0 2.83L4 21.41c.39.39.9.59 1.41.59.51 0 1.02-.2 1.41-.59l7.78-7.78 2.81-2.81c.8-.78.8-2.07 0-2.86zM5.41 20L4 18.59l7.72-7.72 1.47 1.35L5.41 20z\"/>\n",
              "  </svg>\n",
              "      </button>\n",
              "      \n",
              "  <style>\n",
              "    .colab-df-container {\n",
              "      display:flex;\n",
              "      flex-wrap:wrap;\n",
              "      gap: 12px;\n",
              "    }\n",
              "\n",
              "    .colab-df-convert {\n",
              "      background-color: #E8F0FE;\n",
              "      border: none;\n",
              "      border-radius: 50%;\n",
              "      cursor: pointer;\n",
              "      display: none;\n",
              "      fill: #1967D2;\n",
              "      height: 32px;\n",
              "      padding: 0 0 0 0;\n",
              "      width: 32px;\n",
              "    }\n",
              "\n",
              "    .colab-df-convert:hover {\n",
              "      background-color: #E2EBFA;\n",
              "      box-shadow: 0px 1px 2px rgba(60, 64, 67, 0.3), 0px 1px 3px 1px rgba(60, 64, 67, 0.15);\n",
              "      fill: #174EA6;\n",
              "    }\n",
              "\n",
              "    [theme=dark] .colab-df-convert {\n",
              "      background-color: #3B4455;\n",
              "      fill: #D2E3FC;\n",
              "    }\n",
              "\n",
              "    [theme=dark] .colab-df-convert:hover {\n",
              "      background-color: #434B5C;\n",
              "      box-shadow: 0px 1px 3px 1px rgba(0, 0, 0, 0.15);\n",
              "      filter: drop-shadow(0px 1px 2px rgba(0, 0, 0, 0.3));\n",
              "      fill: #FFFFFF;\n",
              "    }\n",
              "  </style>\n",
              "\n",
              "      <script>\n",
              "        const buttonEl =\n",
              "          document.querySelector('#df-fdaf96b9-51f5-4892-bb46-ebc759cf4d89 button.colab-df-convert');\n",
              "        buttonEl.style.display =\n",
              "          google.colab.kernel.accessAllowed ? 'block' : 'none';\n",
              "\n",
              "        async function convertToInteractive(key) {\n",
              "          const element = document.querySelector('#df-fdaf96b9-51f5-4892-bb46-ebc759cf4d89');\n",
              "          const dataTable =\n",
              "            await google.colab.kernel.invokeFunction('convertToInteractive',\n",
              "                                                     [key], {});\n",
              "          if (!dataTable) return;\n",
              "\n",
              "          const docLinkHtml = 'Like what you see? Visit the ' +\n",
              "            '<a target=\"_blank\" href=https://colab.research.google.com/notebooks/data_table.ipynb>data table notebook</a>'\n",
              "            + ' to learn more about interactive tables.';\n",
              "          element.innerHTML = '';\n",
              "          dataTable['output_type'] = 'display_data';\n",
              "          await google.colab.output.renderOutput(dataTable, element);\n",
              "          const docLink = document.createElement('div');\n",
              "          docLink.innerHTML = docLinkHtml;\n",
              "          element.appendChild(docLink);\n",
              "        }\n",
              "      </script>\n",
              "    </div>\n",
              "  </div>\n",
              "  "
            ]
          },
          "metadata": {},
          "execution_count": 15
        }
      ]
    },
    {
      "cell_type": "code",
      "source": [
        "test.to_csv('result.csv')"
      ],
      "metadata": {
        "id": "SUlriaNwxxio"
      },
      "execution_count": 16,
      "outputs": []
    }
  ]
}